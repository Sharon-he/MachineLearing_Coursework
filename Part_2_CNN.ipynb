{
 "cells": [
  {
   "cell_type": "markdown",
   "metadata": {},
   "source": [
    "# 1)Exploring The Dataset"
   ]
  },
  {
   "cell_type": "markdown",
   "metadata": {},
   "source": [
    "## 1.1)Import Libraries"
   ]
  },
  {
   "cell_type": "code",
   "execution_count": 1,
   "metadata": {},
   "outputs": [
    {
     "name": "stderr",
     "output_type": "stream",
     "text": [
      "Using TensorFlow backend.\n"
     ]
    }
   ],
   "source": [
    "import os\n",
    "os.environ['KERAS_BACKEND']='tensorflow'\n",
    "\n",
    "# Ignore warnings :\n",
    "import warnings\n",
    "warnings.filterwarnings('ignore')\n",
    "\n",
    "\n",
    "# Handle table-like data and matrices :\n",
    "import numpy as np\n",
    "import pandas as pd\n",
    "import math \n",
    "import itertools\n",
    "\n",
    "# Modelling Algorithms :\n",
    "\n",
    "# Classification\n",
    "from sklearn.tree import DecisionTreeClassifier\n",
    "from sklearn.linear_model import LogisticRegression\n",
    "from sklearn.neighbors import KNeighborsClassifier\n",
    "from sklearn.naive_bayes import GaussianNB\n",
    "from sklearn.svm import SVC, LinearSVC\n",
    "from sklearn.ensemble import RandomForestClassifier , GradientBoostingClassifier\n",
    "from sklearn.discriminant_analysis import LinearDiscriminantAnalysis , QuadraticDiscriminantAnalysis\n",
    "\n",
    "\n",
    "# Modelling Helpers :\n",
    "from sklearn.preprocessing import Normalizer , scale\n",
    "from sklearn.model_selection import train_test_split\n",
    "from sklearn.metrics import confusion_matrix, classification_report\n",
    "from sklearn.feature_selection import RFECV\n",
    "from sklearn.model_selection import GridSearchCV , KFold , cross_val_score\n",
    "\n",
    "\n",
    "#preprocessing :\n",
    "from sklearn.preprocessing import MinMaxScaler , StandardScaler, LabelEncoder\n",
    "\n",
    "\n",
    "\n",
    "#evaluation metrics :\n",
    "\n",
    "# Regression\n",
    "from sklearn.metrics import mean_squared_log_error,mean_squared_error, r2_score,mean_absolute_error \n",
    "\n",
    "# Classification\n",
    "from sklearn.metrics import accuracy_score,precision_score,recall_score,f1_score  \n",
    "\n",
    "\n",
    "# Deep Learning Libraries\n",
    "from keras.models import Sequential, load_model\n",
    "from keras.layers import Dense, Dropout, Flatten\n",
    "from keras.layers import Conv2D, MaxPooling2D, BatchNormalization\n",
    "from keras.optimizers import Adam,SGD,Adagrad,Adadelta,RMSprop\n",
    "from keras.preprocessing.image import ImageDataGenerator\n",
    "from keras.callbacks import ReduceLROnPlateau, LearningRateScheduler\n",
    "from keras.utils import to_categorical\n",
    "\n",
    "\n",
    "\n",
    "# Visualisation\n",
    "import matplotlib as mpl\n",
    "import matplotlib.pyplot as plt\n",
    "import matplotlib.pylab as pylab\n",
    "import seaborn as sns\n",
    "\n",
    "\n",
    "\n",
    "# Configure visualisations\n",
    "%matplotlib inline\n",
    "mpl.style.use( 'ggplot' )\n",
    "plt.style.use('fivethirtyeight')\n",
    "sns.set(context=\"notebook\", palette=\"dark\", style = 'whitegrid' , color_codes=True)"
   ]
  },
  {
   "cell_type": "markdown",
   "metadata": {},
   "source": [
    "## 1.2)Extract Dataset"
   ]
  },
  {
   "cell_type": "code",
   "execution_count": 2,
   "metadata": {},
   "outputs": [],
   "source": [
    "train = pd.read_csv('train.csv')\n",
    "test = pd.read_csv('testX.csv')\n",
    "df = train.copy()\n",
    "df_test = test.copy()"
   ]
  },
  {
   "cell_type": "code",
   "execution_count": 3,
   "metadata": {},
   "outputs": [
    {
     "data": {
      "text/html": [
       "<div>\n",
       "<style scoped>\n",
       "    .dataframe tbody tr th:only-of-type {\n",
       "        vertical-align: middle;\n",
       "    }\n",
       "\n",
       "    .dataframe tbody tr th {\n",
       "        vertical-align: top;\n",
       "    }\n",
       "\n",
       "    .dataframe thead th {\n",
       "        text-align: right;\n",
       "    }\n",
       "</style>\n",
       "<table border=\"1\" class=\"dataframe\">\n",
       "  <thead>\n",
       "    <tr style=\"text-align: right;\">\n",
       "      <th></th>\n",
       "      <th>Id</th>\n",
       "      <th>Label</th>\n",
       "      <th>1</th>\n",
       "      <th>2</th>\n",
       "      <th>3</th>\n",
       "      <th>4</th>\n",
       "      <th>5</th>\n",
       "      <th>6</th>\n",
       "      <th>7</th>\n",
       "      <th>8</th>\n",
       "      <th>...</th>\n",
       "      <th>775</th>\n",
       "      <th>776</th>\n",
       "      <th>777</th>\n",
       "      <th>778</th>\n",
       "      <th>779</th>\n",
       "      <th>780</th>\n",
       "      <th>781</th>\n",
       "      <th>782</th>\n",
       "      <th>783</th>\n",
       "      <th>784</th>\n",
       "    </tr>\n",
       "  </thead>\n",
       "  <tbody>\n",
       "    <tr>\n",
       "      <th>0</th>\n",
       "      <td>10000</td>\n",
       "      <td>4</td>\n",
       "      <td>0</td>\n",
       "      <td>0</td>\n",
       "      <td>0</td>\n",
       "      <td>0</td>\n",
       "      <td>0</td>\n",
       "      <td>0</td>\n",
       "      <td>0</td>\n",
       "      <td>0</td>\n",
       "      <td>...</td>\n",
       "      <td>0</td>\n",
       "      <td>0</td>\n",
       "      <td>0</td>\n",
       "      <td>0</td>\n",
       "      <td>0</td>\n",
       "      <td>0</td>\n",
       "      <td>0</td>\n",
       "      <td>0</td>\n",
       "      <td>0</td>\n",
       "      <td>0</td>\n",
       "    </tr>\n",
       "    <tr>\n",
       "      <th>1</th>\n",
       "      <td>10001</td>\n",
       "      <td>0</td>\n",
       "      <td>0</td>\n",
       "      <td>0</td>\n",
       "      <td>0</td>\n",
       "      <td>0</td>\n",
       "      <td>0</td>\n",
       "      <td>0</td>\n",
       "      <td>0</td>\n",
       "      <td>0</td>\n",
       "      <td>...</td>\n",
       "      <td>0</td>\n",
       "      <td>0</td>\n",
       "      <td>0</td>\n",
       "      <td>0</td>\n",
       "      <td>0</td>\n",
       "      <td>0</td>\n",
       "      <td>0</td>\n",
       "      <td>0</td>\n",
       "      <td>0</td>\n",
       "      <td>0</td>\n",
       "    </tr>\n",
       "    <tr>\n",
       "      <th>2</th>\n",
       "      <td>10002</td>\n",
       "      <td>0</td>\n",
       "      <td>0</td>\n",
       "      <td>0</td>\n",
       "      <td>0</td>\n",
       "      <td>0</td>\n",
       "      <td>0</td>\n",
       "      <td>0</td>\n",
       "      <td>0</td>\n",
       "      <td>0</td>\n",
       "      <td>...</td>\n",
       "      <td>31</td>\n",
       "      <td>9</td>\n",
       "      <td>0</td>\n",
       "      <td>0</td>\n",
       "      <td>0</td>\n",
       "      <td>0</td>\n",
       "      <td>0</td>\n",
       "      <td>0</td>\n",
       "      <td>0</td>\n",
       "      <td>0</td>\n",
       "    </tr>\n",
       "    <tr>\n",
       "      <th>3</th>\n",
       "      <td>10003</td>\n",
       "      <td>4</td>\n",
       "      <td>0</td>\n",
       "      <td>0</td>\n",
       "      <td>0</td>\n",
       "      <td>0</td>\n",
       "      <td>0</td>\n",
       "      <td>0</td>\n",
       "      <td>0</td>\n",
       "      <td>0</td>\n",
       "      <td>...</td>\n",
       "      <td>0</td>\n",
       "      <td>0</td>\n",
       "      <td>0</td>\n",
       "      <td>0</td>\n",
       "      <td>0</td>\n",
       "      <td>0</td>\n",
       "      <td>0</td>\n",
       "      <td>0</td>\n",
       "      <td>0</td>\n",
       "      <td>0</td>\n",
       "    </tr>\n",
       "    <tr>\n",
       "      <th>4</th>\n",
       "      <td>10004</td>\n",
       "      <td>1</td>\n",
       "      <td>0</td>\n",
       "      <td>0</td>\n",
       "      <td>0</td>\n",
       "      <td>0</td>\n",
       "      <td>0</td>\n",
       "      <td>0</td>\n",
       "      <td>0</td>\n",
       "      <td>0</td>\n",
       "      <td>...</td>\n",
       "      <td>0</td>\n",
       "      <td>0</td>\n",
       "      <td>0</td>\n",
       "      <td>0</td>\n",
       "      <td>0</td>\n",
       "      <td>0</td>\n",
       "      <td>0</td>\n",
       "      <td>0</td>\n",
       "      <td>0</td>\n",
       "      <td>0</td>\n",
       "    </tr>\n",
       "  </tbody>\n",
       "</table>\n",
       "<p>5 rows × 786 columns</p>\n",
       "</div>"
      ],
      "text/plain": [
       "      Id  Label  1  2  3  4  5  6  7  8  ...  775  776  777  778  779  780  \\\n",
       "0  10000      4  0  0  0  0  0  0  0  0  ...    0    0    0    0    0    0   \n",
       "1  10001      0  0  0  0  0  0  0  0  0  ...    0    0    0    0    0    0   \n",
       "2  10002      0  0  0  0  0  0  0  0  0  ...   31    9    0    0    0    0   \n",
       "3  10003      4  0  0  0  0  0  0  0  0  ...    0    0    0    0    0    0   \n",
       "4  10004      1  0  0  0  0  0  0  0  0  ...    0    0    0    0    0    0   \n",
       "\n",
       "   781  782  783  784  \n",
       "0    0    0    0    0  \n",
       "1    0    0    0    0  \n",
       "2    0    0    0    0  \n",
       "3    0    0    0    0  \n",
       "4    0    0    0    0  \n",
       "\n",
       "[5 rows x 786 columns]"
      ]
     },
     "execution_count": 3,
     "metadata": {},
     "output_type": "execute_result"
    }
   ],
   "source": [
    "df.head()"
   ]
  },
  {
   "cell_type": "code",
   "execution_count": 4,
   "metadata": {},
   "outputs": [
    {
     "data": {
      "text/html": [
       "<div>\n",
       "<style scoped>\n",
       "    .dataframe tbody tr th:only-of-type {\n",
       "        vertical-align: middle;\n",
       "    }\n",
       "\n",
       "    .dataframe tbody tr th {\n",
       "        vertical-align: top;\n",
       "    }\n",
       "\n",
       "    .dataframe thead th {\n",
       "        text-align: right;\n",
       "    }\n",
       "</style>\n",
       "<table border=\"1\" class=\"dataframe\">\n",
       "  <thead>\n",
       "    <tr style=\"text-align: right;\">\n",
       "      <th></th>\n",
       "      <th>Id</th>\n",
       "      <th>0</th>\n",
       "      <th>1</th>\n",
       "      <th>2</th>\n",
       "      <th>3</th>\n",
       "      <th>4</th>\n",
       "      <th>5</th>\n",
       "      <th>6</th>\n",
       "      <th>7</th>\n",
       "      <th>8</th>\n",
       "      <th>...</th>\n",
       "      <th>774</th>\n",
       "      <th>775</th>\n",
       "      <th>776</th>\n",
       "      <th>777</th>\n",
       "      <th>778</th>\n",
       "      <th>779</th>\n",
       "      <th>780</th>\n",
       "      <th>781</th>\n",
       "      <th>782</th>\n",
       "      <th>783</th>\n",
       "    </tr>\n",
       "  </thead>\n",
       "  <tbody>\n",
       "    <tr>\n",
       "      <th>0</th>\n",
       "      <td>0</td>\n",
       "      <td>0</td>\n",
       "      <td>0</td>\n",
       "      <td>0</td>\n",
       "      <td>0</td>\n",
       "      <td>0</td>\n",
       "      <td>0</td>\n",
       "      <td>0</td>\n",
       "      <td>0</td>\n",
       "      <td>0</td>\n",
       "      <td>...</td>\n",
       "      <td>0</td>\n",
       "      <td>0</td>\n",
       "      <td>0</td>\n",
       "      <td>0</td>\n",
       "      <td>0</td>\n",
       "      <td>0</td>\n",
       "      <td>0</td>\n",
       "      <td>0</td>\n",
       "      <td>0</td>\n",
       "      <td>0</td>\n",
       "    </tr>\n",
       "    <tr>\n",
       "      <th>1</th>\n",
       "      <td>1</td>\n",
       "      <td>0</td>\n",
       "      <td>0</td>\n",
       "      <td>0</td>\n",
       "      <td>0</td>\n",
       "      <td>0</td>\n",
       "      <td>1</td>\n",
       "      <td>0</td>\n",
       "      <td>0</td>\n",
       "      <td>0</td>\n",
       "      <td>...</td>\n",
       "      <td>119</td>\n",
       "      <td>114</td>\n",
       "      <td>130</td>\n",
       "      <td>76</td>\n",
       "      <td>0</td>\n",
       "      <td>0</td>\n",
       "      <td>0</td>\n",
       "      <td>0</td>\n",
       "      <td>0</td>\n",
       "      <td>0</td>\n",
       "    </tr>\n",
       "    <tr>\n",
       "      <th>2</th>\n",
       "      <td>2</td>\n",
       "      <td>0</td>\n",
       "      <td>0</td>\n",
       "      <td>0</td>\n",
       "      <td>0</td>\n",
       "      <td>0</td>\n",
       "      <td>0</td>\n",
       "      <td>0</td>\n",
       "      <td>0</td>\n",
       "      <td>0</td>\n",
       "      <td>...</td>\n",
       "      <td>0</td>\n",
       "      <td>0</td>\n",
       "      <td>1</td>\n",
       "      <td>0</td>\n",
       "      <td>0</td>\n",
       "      <td>0</td>\n",
       "      <td>0</td>\n",
       "      <td>0</td>\n",
       "      <td>0</td>\n",
       "      <td>0</td>\n",
       "    </tr>\n",
       "    <tr>\n",
       "      <th>3</th>\n",
       "      <td>3</td>\n",
       "      <td>0</td>\n",
       "      <td>0</td>\n",
       "      <td>0</td>\n",
       "      <td>0</td>\n",
       "      <td>0</td>\n",
       "      <td>0</td>\n",
       "      <td>0</td>\n",
       "      <td>0</td>\n",
       "      <td>33</td>\n",
       "      <td>...</td>\n",
       "      <td>0</td>\n",
       "      <td>0</td>\n",
       "      <td>0</td>\n",
       "      <td>0</td>\n",
       "      <td>0</td>\n",
       "      <td>0</td>\n",
       "      <td>0</td>\n",
       "      <td>0</td>\n",
       "      <td>0</td>\n",
       "      <td>0</td>\n",
       "    </tr>\n",
       "    <tr>\n",
       "      <th>4</th>\n",
       "      <td>4</td>\n",
       "      <td>0</td>\n",
       "      <td>0</td>\n",
       "      <td>0</td>\n",
       "      <td>0</td>\n",
       "      <td>0</td>\n",
       "      <td>0</td>\n",
       "      <td>0</td>\n",
       "      <td>0</td>\n",
       "      <td>0</td>\n",
       "      <td>...</td>\n",
       "      <td>0</td>\n",
       "      <td>0</td>\n",
       "      <td>0</td>\n",
       "      <td>0</td>\n",
       "      <td>0</td>\n",
       "      <td>0</td>\n",
       "      <td>0</td>\n",
       "      <td>0</td>\n",
       "      <td>0</td>\n",
       "      <td>0</td>\n",
       "    </tr>\n",
       "  </tbody>\n",
       "</table>\n",
       "<p>5 rows × 785 columns</p>\n",
       "</div>"
      ],
      "text/plain": [
       "   Id  0  1  2  3  4  5  6  7   8  ...  774  775  776  777  778  779  780  \\\n",
       "0   0  0  0  0  0  0  0  0  0   0  ...    0    0    0    0    0    0    0   \n",
       "1   1  0  0  0  0  0  1  0  0   0  ...  119  114  130   76    0    0    0   \n",
       "2   2  0  0  0  0  0  0  0  0   0  ...    0    0    1    0    0    0    0   \n",
       "3   3  0  0  0  0  0  0  0  0  33  ...    0    0    0    0    0    0    0   \n",
       "4   4  0  0  0  0  0  0  0  0   0  ...    0    0    0    0    0    0    0   \n",
       "\n",
       "   781  782  783  \n",
       "0    0    0    0  \n",
       "1    0    0    0  \n",
       "2    0    0    0  \n",
       "3    0    0    0  \n",
       "4    0    0    0  \n",
       "\n",
       "[5 rows x 785 columns]"
      ]
     },
     "execution_count": 4,
     "metadata": {},
     "output_type": "execute_result"
    }
   ],
   "source": [
    "df_test.head()"
   ]
  },
  {
   "cell_type": "markdown",
   "metadata": {},
   "source": [
    "## 1.3)Examine Dimensions"
   ]
  },
  {
   "cell_type": "code",
   "execution_count": 5,
   "metadata": {},
   "outputs": [
    {
     "name": "stdout",
     "output_type": "stream",
     "text": [
      "Train:  (60000, 786)\n",
      "Test:  (10000, 785)\n"
     ]
    }
   ],
   "source": [
    "print('Train: ', df.shape)\n",
    "print('Test: ', df_test.shape)"
   ]
  },
  {
   "cell_type": "code",
   "execution_count": 6,
   "metadata": {},
   "outputs": [
    {
     "data": {
      "text/plain": [
       "array([4, 0, 1, 2, 3], dtype=int64)"
      ]
     },
     "execution_count": 6,
     "metadata": {},
     "output_type": "execute_result"
    }
   ],
   "source": [
    "df[\"Label\"].unique()"
   ]
  },
  {
   "cell_type": "markdown",
   "metadata": {},
   "source": [
    "## 1.4)Examine NaN Values"
   ]
  },
  {
   "cell_type": "code",
   "execution_count": 7,
   "metadata": {},
   "outputs": [
    {
     "data": {
      "text/plain": [
       "0"
      ]
     },
     "execution_count": 7,
     "metadata": {},
     "output_type": "execute_result"
    }
   ],
   "source": [
    "# Train\n",
    "df.isnull().any().sum()"
   ]
  },
  {
   "cell_type": "code",
   "execution_count": 8,
   "metadata": {},
   "outputs": [
    {
     "data": {
      "text/plain": [
       "0"
      ]
     },
     "execution_count": 8,
     "metadata": {},
     "output_type": "execute_result"
    }
   ],
   "source": [
    "# Test\n",
    "df_test.isnull().any().sum()"
   ]
  },
  {
   "cell_type": "markdown",
   "metadata": {},
   "source": [
    "# 2)Visualizing the Dataset"
   ]
  },
  {
   "cell_type": "markdown",
   "metadata": {},
   "source": [
    "## 2.1) Plotting Random Images"
   ]
  },
  {
   "cell_type": "code",
   "execution_count": 9,
   "metadata": {},
   "outputs": [
    {
     "data": {
      "image/png": "[encoded data removed]",
      "text/plain": [
       "<Figure size 1080x1080 with 16 Axes>"
      ]
     },
     "metadata": {},
     "output_type": "display_data"
    }
   ],
   "source": [
    "img=df.drop('Id', axis=1)\n",
    "fig, axes = plt.subplots(4, 4, figsize = (15,15))\n",
    "for row in axes:\n",
    "    for axe in row:\n",
    "        index = np.random.randint(60000)\n",
    "        imge = img.drop('Label', axis=1).values[index].reshape(28,28)\n",
    "        cloths = img['Label'][index]\n",
    "        axe.imshow(imge, cmap='gray')\n",
    "        axe.set_title(cloths)\n",
    "        axe.set_axis_off()"
   ]
  },
  {
   "cell_type": "markdown",
   "metadata": {},
   "source": [
    "## 2.2) Distribution of Labels"
   ]
  },
  {
   "cell_type": "code",
   "execution_count": 10,
   "metadata": {},
   "outputs": [
    {
     "data": {
      "text/plain": [
       "4    12067\n",
       "2    11994\n",
       "1    11986\n",
       "3    11978\n",
       "0    11975\n",
       "Name: Label, dtype: int64"
      ]
     },
     "execution_count": 10,
     "metadata": {},
     "output_type": "execute_result"
    }
   ],
   "source": [
    "df['Label'].value_counts()"
   ]
  },
  {
   "cell_type": "code",
   "execution_count": 11,
   "metadata": {},
   "outputs": [
    {
     "data": {
      "text/plain": [
       "<seaborn.axisgrid.FacetGrid at 0x25382a91400>"
      ]
     },
     "execution_count": 11,
     "metadata": {},
     "output_type": "execute_result"
    },
    {
     "data": {
      "image/png": "[encoded data removed]",
      "text/plain": [
       "<Figure size 324x216 with 1 Axes>"
      ]
     },
     "metadata": {},
     "output_type": "display_data"
    }
   ],
   "source": [
    "sns.factorplot(x='Label', data=df, kind='count', size=3, aspect= 1.5)"
   ]
  },
  {
   "cell_type": "markdown",
   "metadata": {},
   "source": [
    "# 3) Data PreProcessing"
   ]
  },
  {
   "cell_type": "markdown",
   "metadata": {},
   "source": [
    "## 3.1) Setting Random Seeds"
   ]
  },
  {
   "cell_type": "code",
   "execution_count": 12,
   "metadata": {},
   "outputs": [],
   "source": [
    "# Setting Random Seeds for Reproducibilty.\n",
    "seed = 66\n",
    "np.random.seed(seed)"
   ]
  },
  {
   "cell_type": "markdown",
   "metadata": {},
   "source": [
    "## 3.2) Splitting Data into Train and Validation Set"
   ]
  },
  {
   "cell_type": "code",
   "execution_count": 13,
   "metadata": {},
   "outputs": [],
   "source": [
    "X = train.iloc[:,2:]\n",
    "Y = train.iloc[:,1]\n",
    "x_train, x_test, y_train, y_test = train_test_split(X, Y, test_size=0.1, random_state=seed)"
   ]
  },
  {
   "cell_type": "code",
   "execution_count": 14,
   "metadata": {},
   "outputs": [
    {
     "data": {
      "text/html": [
       "<div>\n",
       "<style scoped>\n",
       "    .dataframe tbody tr th:only-of-type {\n",
       "        vertical-align: middle;\n",
       "    }\n",
       "\n",
       "    .dataframe tbody tr th {\n",
       "        vertical-align: top;\n",
       "    }\n",
       "\n",
       "    .dataframe thead th {\n",
       "        text-align: right;\n",
       "    }\n",
       "</style>\n",
       "<table border=\"1\" class=\"dataframe\">\n",
       "  <thead>\n",
       "    <tr style=\"text-align: right;\">\n",
       "      <th></th>\n",
       "      <th>1</th>\n",
       "      <th>2</th>\n",
       "      <th>3</th>\n",
       "      <th>4</th>\n",
       "      <th>5</th>\n",
       "      <th>6</th>\n",
       "      <th>7</th>\n",
       "      <th>8</th>\n",
       "      <th>9</th>\n",
       "      <th>10</th>\n",
       "      <th>...</th>\n",
       "      <th>775</th>\n",
       "      <th>776</th>\n",
       "      <th>777</th>\n",
       "      <th>778</th>\n",
       "      <th>779</th>\n",
       "      <th>780</th>\n",
       "      <th>781</th>\n",
       "      <th>782</th>\n",
       "      <th>783</th>\n",
       "      <th>784</th>\n",
       "    </tr>\n",
       "  </thead>\n",
       "  <tbody>\n",
       "    <tr>\n",
       "      <th>0</th>\n",
       "      <td>0</td>\n",
       "      <td>0</td>\n",
       "      <td>0</td>\n",
       "      <td>0</td>\n",
       "      <td>0</td>\n",
       "      <td>0</td>\n",
       "      <td>0</td>\n",
       "      <td>0</td>\n",
       "      <td>0</td>\n",
       "      <td>0</td>\n",
       "      <td>...</td>\n",
       "      <td>0</td>\n",
       "      <td>0</td>\n",
       "      <td>0</td>\n",
       "      <td>0</td>\n",
       "      <td>0</td>\n",
       "      <td>0</td>\n",
       "      <td>0</td>\n",
       "      <td>0</td>\n",
       "      <td>0</td>\n",
       "      <td>0</td>\n",
       "    </tr>\n",
       "    <tr>\n",
       "      <th>1</th>\n",
       "      <td>0</td>\n",
       "      <td>0</td>\n",
       "      <td>0</td>\n",
       "      <td>0</td>\n",
       "      <td>0</td>\n",
       "      <td>0</td>\n",
       "      <td>0</td>\n",
       "      <td>0</td>\n",
       "      <td>0</td>\n",
       "      <td>0</td>\n",
       "      <td>...</td>\n",
       "      <td>0</td>\n",
       "      <td>0</td>\n",
       "      <td>0</td>\n",
       "      <td>0</td>\n",
       "      <td>0</td>\n",
       "      <td>0</td>\n",
       "      <td>0</td>\n",
       "      <td>0</td>\n",
       "      <td>0</td>\n",
       "      <td>0</td>\n",
       "    </tr>\n",
       "    <tr>\n",
       "      <th>2</th>\n",
       "      <td>0</td>\n",
       "      <td>0</td>\n",
       "      <td>0</td>\n",
       "      <td>0</td>\n",
       "      <td>0</td>\n",
       "      <td>0</td>\n",
       "      <td>0</td>\n",
       "      <td>0</td>\n",
       "      <td>1</td>\n",
       "      <td>0</td>\n",
       "      <td>...</td>\n",
       "      <td>31</td>\n",
       "      <td>9</td>\n",
       "      <td>0</td>\n",
       "      <td>0</td>\n",
       "      <td>0</td>\n",
       "      <td>0</td>\n",
       "      <td>0</td>\n",
       "      <td>0</td>\n",
       "      <td>0</td>\n",
       "      <td>0</td>\n",
       "    </tr>\n",
       "    <tr>\n",
       "      <th>3</th>\n",
       "      <td>0</td>\n",
       "      <td>0</td>\n",
       "      <td>0</td>\n",
       "      <td>0</td>\n",
       "      <td>0</td>\n",
       "      <td>0</td>\n",
       "      <td>0</td>\n",
       "      <td>0</td>\n",
       "      <td>0</td>\n",
       "      <td>0</td>\n",
       "      <td>...</td>\n",
       "      <td>0</td>\n",
       "      <td>0</td>\n",
       "      <td>0</td>\n",
       "      <td>0</td>\n",
       "      <td>0</td>\n",
       "      <td>0</td>\n",
       "      <td>0</td>\n",
       "      <td>0</td>\n",
       "      <td>0</td>\n",
       "      <td>0</td>\n",
       "    </tr>\n",
       "    <tr>\n",
       "      <th>4</th>\n",
       "      <td>0</td>\n",
       "      <td>0</td>\n",
       "      <td>0</td>\n",
       "      <td>0</td>\n",
       "      <td>0</td>\n",
       "      <td>0</td>\n",
       "      <td>0</td>\n",
       "      <td>0</td>\n",
       "      <td>0</td>\n",
       "      <td>0</td>\n",
       "      <td>...</td>\n",
       "      <td>0</td>\n",
       "      <td>0</td>\n",
       "      <td>0</td>\n",
       "      <td>0</td>\n",
       "      <td>0</td>\n",
       "      <td>0</td>\n",
       "      <td>0</td>\n",
       "      <td>0</td>\n",
       "      <td>0</td>\n",
       "      <td>0</td>\n",
       "    </tr>\n",
       "  </tbody>\n",
       "</table>\n",
       "<p>5 rows × 784 columns</p>\n",
       "</div>"
      ],
      "text/plain": [
       "   1  2  3  4  5  6  7  8  9  10  ...  775  776  777  778  779  780  781  782  \\\n",
       "0  0  0  0  0  0  0  0  0  0   0  ...    0    0    0    0    0    0    0    0   \n",
       "1  0  0  0  0  0  0  0  0  0   0  ...    0    0    0    0    0    0    0    0   \n",
       "2  0  0  0  0  0  0  0  0  1   0  ...   31    9    0    0    0    0    0    0   \n",
       "3  0  0  0  0  0  0  0  0  0   0  ...    0    0    0    0    0    0    0    0   \n",
       "4  0  0  0  0  0  0  0  0  0   0  ...    0    0    0    0    0    0    0    0   \n",
       "\n",
       "   783  784  \n",
       "0    0    0  \n",
       "1    0    0  \n",
       "2    0    0  \n",
       "3    0    0  \n",
       "4    0    0  \n",
       "\n",
       "[5 rows x 784 columns]"
      ]
     },
     "execution_count": 14,
     "metadata": {},
     "output_type": "execute_result"
    }
   ],
   "source": [
    "X.head()"
   ]
  },
  {
   "cell_type": "code",
   "execution_count": 15,
   "metadata": {},
   "outputs": [
    {
     "data": {
      "text/plain": [
       "0    4\n",
       "1    0\n",
       "2    0\n",
       "3    4\n",
       "4    1\n",
       "Name: Label, dtype: int64"
      ]
     },
     "execution_count": 15,
     "metadata": {},
     "output_type": "execute_result"
    }
   ],
   "source": [
    "Y.head()"
   ]
  },
  {
   "cell_type": "markdown",
   "metadata": {},
   "source": [
    "## 3.3) Reshaping the Images"
   ]
  },
  {
   "cell_type": "code",
   "execution_count": 16,
   "metadata": {},
   "outputs": [],
   "source": [
    "x_train = x_train.values.reshape((-1, 28, 28, 1))\n",
    "x_test = x_test.values.reshape((-1, 28, 28, 1))\n",
    "\n",
    "df_test.drop('Id' , axis=1, inplace=True)\n",
    "df_test = df_test.values.reshape((-1, 28, 28, 1))"
   ]
  },
  {
   "cell_type": "markdown",
   "metadata": {},
   "source": [
    "## 3.4)Normalization"
   ]
  },
  {
   "cell_type": "code",
   "execution_count": 17,
   "metadata": {},
   "outputs": [],
   "source": [
    "x_train = x_train.astype(\"float32\")/255\n",
    "x_test = x_test.astype(\"float32\")/255\n",
    "df_test = df_test.astype(\"float32\")/255"
   ]
  },
  {
   "cell_type": "markdown",
   "metadata": {},
   "source": [
    "## 3.5) One Hot Encoding"
   ]
  },
  {
   "cell_type": "code",
   "execution_count": 18,
   "metadata": {},
   "outputs": [],
   "source": [
    "y_train = to_categorical(y_train, num_classes=5)\n",
    "y_test = to_categorical(y_test, num_classes=5)"
   ]
  },
  {
   "cell_type": "code",
   "execution_count": 19,
   "metadata": {},
   "outputs": [
    {
     "name": "stdout",
     "output_type": "stream",
     "text": [
      "(54000, 5)\n",
      "(6000, 5)\n"
     ]
    }
   ],
   "source": [
    "print(y_train.shape)\n",
    "print(y_test.shape)"
   ]
  },
  {
   "cell_type": "markdown",
   "metadata": {},
   "source": [
    "# 4)Training a Convolutional Neural Network"
   ]
  },
  {
   "cell_type": "markdown",
   "metadata": {},
   "source": [
    "## 4.1) Building a ConvNet"
   ]
  },
  {
   "cell_type": "markdown",
   "metadata": {},
   "source": [
    "## Model1"
   ]
  },
  {
   "cell_type": "code",
   "execution_count": 76,
   "metadata": {
    "collapsed": true
   },
   "outputs": [],
   "source": [
    "model = Sequential()\n",
    "model.add(Conv2D(filters=32, kernel_size=(3, 3), activation='relu', strides=1, padding='same', \n",
    "                 data_format='channels_last', input_shape=(28,28,1)))\n",
    "model.add(MaxPooling2D(pool_size=(2, 2)))\n",
    "model.add(Conv2D(filters=64, kernel_size=(3, 3), activation='relu', strides=1, padding='same', \n",
    "                 data_format='channels_last', input_shape=(28,28,1)))\n",
    "model.add(MaxPooling2D(pool_size=(2, 2)))\n",
    "model.add(Conv2D(filters=64, kernel_size=(3, 3), activation='relu', strides=1, padding='same', \n",
    "                 data_format='channels_last', input_shape=(28,28,1)))\n",
    "model.add(Flatten())\n",
    "model.add(Dense(64, activation='relu'))\n",
    "model.add(Dense(5, activation='softmax'))\n",
    "    "
   ]
  },
  {
   "cell_type": "code",
   "execution_count": 77,
   "metadata": {},
   "outputs": [
    {
     "name": "stdout",
     "output_type": "stream",
     "text": [
      "_________________________________________________________________\n",
      "Layer (type)                 Output Shape              Param #   \n",
      "=================================================================\n",
      "conv2d_16 (Conv2D)           (None, 28, 28, 32)        320       \n",
      "_________________________________________________________________\n",
      "max_pooling2d_4 (MaxPooling2 (None, 14, 14, 32)        0         \n",
      "_________________________________________________________________\n",
      "conv2d_17 (Conv2D)           (None, 14, 14, 64)        18496     \n",
      "_________________________________________________________________\n",
      "max_pooling2d_5 (MaxPooling2 (None, 7, 7, 64)          0         \n",
      "_________________________________________________________________\n",
      "conv2d_18 (Conv2D)           (None, 7, 7, 64)          36928     \n",
      "_________________________________________________________________\n",
      "flatten_1 (Flatten)          (None, 3136)              0         \n",
      "_________________________________________________________________\n",
      "dense_8 (Dense)              (None, 64)                200768    \n",
      "_________________________________________________________________\n",
      "dense_9 (Dense)              (None, 5)                 325       \n",
      "=================================================================\n",
      "Total params: 256,837\n",
      "Trainable params: 256,837\n",
      "Non-trainable params: 0\n",
      "_________________________________________________________________\n"
     ]
    }
   ],
   "source": [
    "# Optimizer\n",
    "optimizer = Adam(lr=0.001, beta_1=0.9, beta_2=0.999 )\n",
    "model.compile(optimizer = optimizer, loss = 'categorical_crossentropy', metrics=['accuracy'])\n",
    "model.summary()\n"
   ]
  },
  {
   "cell_type": "code",
   "execution_count": 78,
   "metadata": {
    "collapsed": true
   },
   "outputs": [],
   "source": [
    "reduce_lr = LearningRateScheduler(lambda x: 1e-3 * 0.9 ** x)"
   ]
  },
  {
   "cell_type": "code",
   "execution_count": 79,
   "metadata": {
    "collapsed": true
   },
   "outputs": [],
   "source": [
    "batch_size = 128\n",
    "epochs = 40"
   ]
  },
  {
   "cell_type": "code",
   "execution_count": 80,
   "metadata": {},
   "outputs": [
    {
     "name": "stdout",
     "output_type": "stream",
     "text": [
      "Train on 54000 samples, validate on 6000 samples\n",
      "Epoch 1/40\n",
      "30s - loss: 0.6037 - acc: 0.7473 - val_loss: 0.4761 - val_acc: 0.8043\n",
      "Epoch 2/40\n",
      "30s - loss: 0.4154 - acc: 0.8324 - val_loss: 0.4008 - val_acc: 0.8385\n",
      "Epoch 3/40\n",
      "33s - loss: 0.3638 - acc: 0.8533 - val_loss: 0.3405 - val_acc: 0.8688\n",
      "Epoch 4/40\n",
      "31s - loss: 0.3285 - acc: 0.8705 - val_loss: 0.3809 - val_acc: 0.8478\n",
      "Epoch 5/40\n",
      "31s - loss: 0.3064 - acc: 0.8764 - val_loss: 0.3221 - val_acc: 0.8708\n",
      "Epoch 6/40\n",
      "31s - loss: 0.2848 - acc: 0.8869 - val_loss: 0.3066 - val_acc: 0.8810\n",
      "Epoch 7/40\n",
      "30s - loss: 0.2641 - acc: 0.8948 - val_loss: 0.2963 - val_acc: 0.8788\n",
      "Epoch 8/40\n",
      "30s - loss: 0.2554 - acc: 0.8975 - val_loss: 0.2825 - val_acc: 0.8902\n",
      "Epoch 9/40\n",
      "31s - loss: 0.2382 - acc: 0.9051 - val_loss: 0.2790 - val_acc: 0.8890\n",
      "Epoch 10/40\n",
      "31s - loss: 0.2267 - acc: 0.9097 - val_loss: 0.2800 - val_acc: 0.8875\n",
      "Epoch 11/40\n",
      "30s - loss: 0.2155 - acc: 0.9136 - val_loss: 0.2926 - val_acc: 0.8852\n",
      "Epoch 12/40\n",
      "31s - loss: 0.2048 - acc: 0.9188 - val_loss: 0.2677 - val_acc: 0.8907\n",
      "Epoch 13/40\n",
      "30s - loss: 0.1983 - acc: 0.9210 - val_loss: 0.2686 - val_acc: 0.8962\n",
      "Epoch 14/40\n",
      "31s - loss: 0.1885 - acc: 0.9265 - val_loss: 0.2984 - val_acc: 0.8808\n",
      "Epoch 15/40\n",
      "31s - loss: 0.1822 - acc: 0.9293 - val_loss: 0.2708 - val_acc: 0.8952\n",
      "Epoch 16/40\n",
      "31s - loss: 0.1745 - acc: 0.9327 - val_loss: 0.2779 - val_acc: 0.8865\n",
      "Epoch 17/40\n",
      "30s - loss: 0.1678 - acc: 0.9359 - val_loss: 0.2728 - val_acc: 0.8932\n",
      "Epoch 18/40\n",
      "31s - loss: 0.1628 - acc: 0.9380 - val_loss: 0.2752 - val_acc: 0.8942\n",
      "Epoch 19/40\n",
      "30s - loss: 0.1593 - acc: 0.9384 - val_loss: 0.2622 - val_acc: 0.8982\n",
      "Epoch 20/40\n",
      "30s - loss: 0.1548 - acc: 0.9415 - val_loss: 0.2637 - val_acc: 0.9012\n",
      "Epoch 21/40\n",
      "31s - loss: 0.1491 - acc: 0.9438 - val_loss: 0.2627 - val_acc: 0.9002\n",
      "Epoch 22/40\n",
      "31s - loss: 0.1448 - acc: 0.9465 - val_loss: 0.2649 - val_acc: 0.8993\n",
      "Epoch 23/40\n",
      "31s - loss: 0.1416 - acc: 0.9469 - val_loss: 0.2663 - val_acc: 0.8973\n",
      "Epoch 24/40\n",
      "31s - loss: 0.1397 - acc: 0.9478 - val_loss: 0.2625 - val_acc: 0.9017\n",
      "Epoch 25/40\n",
      "31s - loss: 0.1371 - acc: 0.9491 - val_loss: 0.2696 - val_acc: 0.8982\n",
      "Epoch 26/40\n",
      "31s - loss: 0.1330 - acc: 0.9512 - val_loss: 0.2653 - val_acc: 0.8997\n",
      "Epoch 27/40\n",
      "31s - loss: 0.1307 - acc: 0.9516 - val_loss: 0.2712 - val_acc: 0.8970\n",
      "Epoch 28/40\n",
      "30s - loss: 0.1288 - acc: 0.9534 - val_loss: 0.2643 - val_acc: 0.9020\n",
      "Epoch 29/40\n",
      "30s - loss: 0.1267 - acc: 0.9543 - val_loss: 0.2659 - val_acc: 0.9002\n",
      "Epoch 30/40\n",
      "30s - loss: 0.1253 - acc: 0.9549 - val_loss: 0.2687 - val_acc: 0.8995\n",
      "Epoch 31/40\n",
      "30s - loss: 0.1234 - acc: 0.9556 - val_loss: 0.2677 - val_acc: 0.9000\n",
      "Epoch 32/40\n",
      "31s - loss: 0.1223 - acc: 0.9566 - val_loss: 0.2678 - val_acc: 0.9020\n",
      "Epoch 33/40\n",
      "31s - loss: 0.1206 - acc: 0.9572 - val_loss: 0.2720 - val_acc: 0.8980\n",
      "Epoch 34/40\n",
      "31s - loss: 0.1197 - acc: 0.9565 - val_loss: 0.2665 - val_acc: 0.9025\n",
      "Epoch 35/40\n",
      "31s - loss: 0.1184 - acc: 0.9581 - val_loss: 0.2692 - val_acc: 0.9003\n",
      "Epoch 36/40\n",
      "31s - loss: 0.1176 - acc: 0.9583 - val_loss: 0.2678 - val_acc: 0.9025\n",
      "Epoch 37/40\n",
      "31s - loss: 0.1171 - acc: 0.9586 - val_loss: 0.2682 - val_acc: 0.9017\n",
      "Epoch 38/40\n",
      "31s - loss: 0.1161 - acc: 0.9591 - val_loss: 0.2683 - val_acc: 0.9023\n",
      "Epoch 39/40\n",
      "31s - loss: 0.1153 - acc: 0.9593 - val_loss: 0.2700 - val_acc: 0.9003\n",
      "Epoch 40/40\n",
      "31s - loss: 0.1146 - acc: 0.9600 - val_loss: 0.2715 - val_acc: 0.9005\n"
     ]
    }
   ],
   "source": [
    "# Fit the Model\n",
    "history = model.fit(x_train, y_train,batch_size=128, epochs = epochs, verbose=2,\n",
    "                              validation_data = (x_test, y_test),\n",
    "                              callbacks = [reduce_lr])"
   ]
  },
  {
   "cell_type": "code",
   "execution_count": 81,
   "metadata": {},
   "outputs": [
    {
     "name": "stdout",
     "output_type": "stream",
     "text": [
      "5824/6000 [============================>.] - ETA: 0sLoss: 0.2715\n",
      "Accuracy: 0.9005\n"
     ]
    }
   ],
   "source": [
    "score = model.evaluate(x_test, y_test)\n",
    "\n",
    "print('Loss: {:.4f}'.format(score[0]))\n",
    "print('Accuracy: {:.4f}'.format(score[1]))"
   ]
  },
  {
   "cell_type": "code",
   "execution_count": 82,
   "metadata": {},
   "outputs": [
    {
     "data": {
      "image/png": "[encoded data removed]",
      "text/plain": [
       "<Figure size 432x288 with 1 Axes>"
      ]
     },
     "metadata": {},
     "output_type": "display_data"
    }
   ],
   "source": [
    "#Plotting the Training and Validation Curves\n",
    "plt.plot(history.history['loss'])\n",
    "plt.plot(history.history['val_loss'])\n",
    "plt.title(\"Model Loss\")\n",
    "plt.xlabel('Epochs')\n",
    "plt.ylabel('Loss')\n",
    "plt.legend(['Train', 'Test'])\n",
    "plt.show()"
   ]
  },
  {
   "cell_type": "code",
   "execution_count": 85,
   "metadata": {},
   "outputs": [
    {
     "data": {
      "image/png": "[encoded data removed]",
      "text/plain": [
       "<Figure size 432x288 with 1 Axes>"
      ]
     },
     "metadata": {},
     "output_type": "display_data"
    }
   ],
   "source": [
    "plt.plot(history.history['acc'])\n",
    "plt.plot(history.history['val_acc'])\n",
    "plt.title(\"Model Accuracy\")\n",
    "plt.xlabel('Epochs')\n",
    "plt.ylabel('Accuracy')\n",
    "plt.legend(['Train', 'Test'])\n",
    "plt.show()"
   ]
  },
  {
   "cell_type": "code",
   "execution_count": 86,
   "metadata": {
    "collapsed": true
   },
   "outputs": [],
   "source": [
    "#Confusion Matrix\n",
    "def plot_confusion_matrix(cm, classes,\n",
    "                          normalize=False,\n",
    "                          title='Confusion matrix',\n",
    "                          cmap=plt.cm.Blues):\n",
    "    \n",
    "    plt.imshow(cm, interpolation='nearest', cmap=cmap)\n",
    "    plt.title(title)\n",
    "    plt.colorbar()\n",
    "    tick_marks = np.arange(len(classes))\n",
    "    plt.xticks(tick_marks, classes, rotation=90)\n",
    "    plt.yticks(tick_marks, classes)\n",
    "\n",
    "    if normalize:\n",
    "        cm = cm.astype('float') / cm.sum(axis=1)[:, np.newaxis]\n",
    "\n",
    "    thresh = cm.max() / 2.\n",
    "    for i, j in itertools.product(range(cm.shape[0]), range(cm.shape[1])):\n",
    "        plt.text(j, i, cm[i, j],\n",
    "                 horizontalalignment=\"center\",\n",
    "                 color=\"white\" if cm[i, j] > thresh else \"black\")\n",
    "\n",
    "    plt.tight_layout()\n",
    "    plt.ylabel('True label')\n",
    "    plt.xlabel('Predicted label')"
   ]
  },
  {
   "cell_type": "code",
   "execution_count": 87,
   "metadata": {},
   "outputs": [
    {
     "data": {
      "image/png": "[encoded data removed]",
      "text/plain": [
       "<Figure size 432x288 with 2 Axes>"
      ]
     },
     "metadata": {},
     "output_type": "display_data"
    }
   ],
   "source": [
    "Y_pred = model.predict(x_test)\n",
    "Y_pred_classes = np.argmax(Y_pred,axis = 1) \n",
    "Y_true = np.argmax(y_test,axis = 1)\n",
    "confusion_mtx = confusion_matrix(Y_true, Y_pred_classes) \n",
    "plot_confusion_matrix(confusion_mtx, \n",
    "            classes = ['0','1','2','3','4'])"
   ]
  },
  {
   "cell_type": "code",
   "execution_count": 88,
   "metadata": {},
   "outputs": [
    {
     "name": "stdout",
     "output_type": "stream",
     "text": [
      "              precision    recall  f1-score   support\n",
      "\n",
      "           0       0.97      0.95      0.96      1163\n",
      "           1       0.90      0.91      0.90      1214\n",
      "           2       0.86      0.84      0.85      1188\n",
      "           3       0.86      0.87      0.86      1226\n",
      "           4       0.93      0.93      0.93      1209\n",
      "\n",
      "    accuracy                           0.90      6000\n",
      "   macro avg       0.90      0.90      0.90      6000\n",
      "weighted avg       0.90      0.90      0.90      6000\n",
      "\n"
     ]
    }
   ],
   "source": [
    "#Classification Report\n",
    "classes = ['0','1','2','3','4']\n",
    "print(classification_report(Y_true, Y_pred_classes, target_names = classes))"
   ]
  },
  {
   "cell_type": "code",
   "execution_count": null,
   "metadata": {
    "collapsed": true
   },
   "outputs": [],
   "source": [
    "X = df_test"
   ]
  },
  {
   "cell_type": "code",
   "execution_count": 193,
   "metadata": {
    "collapsed": true
   },
   "outputs": [],
   "source": [
    "Y = model.predict(X)"
   ]
  },
  {
   "cell_type": "code",
   "execution_count": 195,
   "metadata": {},
   "outputs": [
    {
     "data": {
      "text/plain": [
       "(10000, 5)"
      ]
     },
     "execution_count": 195,
     "metadata": {},
     "output_type": "execute_result"
    }
   ],
   "source": [
    "Y.shape"
   ]
  },
  {
   "cell_type": "code",
   "execution_count": 211,
   "metadata": {
    "collapsed": true
   },
   "outputs": [],
   "source": [
    "y= pd.DataFrame(Y)"
   ]
  },
  {
   "cell_type": "code",
   "execution_count": 226,
   "metadata": {
    "collapsed": true
   },
   "outputs": [],
   "source": [
    "y['max_value']=my_df.max(axis=1)\n",
    "y['Id']=y.index\n",
    "y['Label']=np.argmax(Y,axis=1)"
   ]
  },
  {
   "cell_type": "code",
   "execution_count": 232,
   "metadata": {
    "collapsed": true
   },
   "outputs": [],
   "source": [
    "y_pre=y[['Id','Label']]"
   ]
  },
  {
   "cell_type": "code",
   "execution_count": 233,
   "metadata": {},
   "outputs": [
    {
     "data": {
      "text/html": [
       "<div>\n",
       "<style scoped>\n",
       "    .dataframe tbody tr th:only-of-type {\n",
       "        vertical-align: middle;\n",
       "    }\n",
       "\n",
       "    .dataframe tbody tr th {\n",
       "        vertical-align: top;\n",
       "    }\n",
       "\n",
       "    .dataframe thead th {\n",
       "        text-align: right;\n",
       "    }\n",
       "</style>\n",
       "<table border=\"1\" class=\"dataframe\">\n",
       "  <thead>\n",
       "    <tr style=\"text-align: right;\">\n",
       "      <th></th>\n",
       "      <th>Id</th>\n",
       "      <th>Label</th>\n",
       "    </tr>\n",
       "  </thead>\n",
       "  <tbody>\n",
       "    <tr>\n",
       "      <th>0</th>\n",
       "      <td>0</td>\n",
       "      <td>4</td>\n",
       "    </tr>\n",
       "    <tr>\n",
       "      <th>1</th>\n",
       "      <td>1</td>\n",
       "      <td>4</td>\n",
       "    </tr>\n",
       "    <tr>\n",
       "      <th>2</th>\n",
       "      <td>2</td>\n",
       "      <td>1</td>\n",
       "    </tr>\n",
       "    <tr>\n",
       "      <th>3</th>\n",
       "      <td>3</td>\n",
       "      <td>1</td>\n",
       "    </tr>\n",
       "    <tr>\n",
       "      <th>4</th>\n",
       "      <td>4</td>\n",
       "      <td>0</td>\n",
       "    </tr>\n",
       "    <tr>\n",
       "      <th>...</th>\n",
       "      <td>...</td>\n",
       "      <td>...</td>\n",
       "    </tr>\n",
       "    <tr>\n",
       "      <th>9995</th>\n",
       "      <td>9995</td>\n",
       "      <td>1</td>\n",
       "    </tr>\n",
       "    <tr>\n",
       "      <th>9996</th>\n",
       "      <td>9996</td>\n",
       "      <td>1</td>\n",
       "    </tr>\n",
       "    <tr>\n",
       "      <th>9997</th>\n",
       "      <td>9997</td>\n",
       "      <td>3</td>\n",
       "    </tr>\n",
       "    <tr>\n",
       "      <th>9998</th>\n",
       "      <td>9998</td>\n",
       "      <td>2</td>\n",
       "    </tr>\n",
       "    <tr>\n",
       "      <th>9999</th>\n",
       "      <td>9999</td>\n",
       "      <td>2</td>\n",
       "    </tr>\n",
       "  </tbody>\n",
       "</table>\n",
       "<p>10000 rows × 2 columns</p>\n",
       "</div>"
      ],
      "text/plain": [
       "        Id  Label\n",
       "0        0      4\n",
       "1        1      4\n",
       "2        2      1\n",
       "3        3      1\n",
       "4        4      0\n",
       "...    ...    ...\n",
       "9995  9995      1\n",
       "9996  9996      1\n",
       "9997  9997      3\n",
       "9998  9998      2\n",
       "9999  9999      2\n",
       "\n",
       "[10000 rows x 2 columns]"
      ]
     },
     "execution_count": 233,
     "metadata": {},
     "output_type": "execute_result"
    }
   ],
   "source": [
    "y_pre"
   ]
  },
  {
   "cell_type": "code",
   "execution_count": 236,
   "metadata": {
    "collapsed": true
   },
   "outputs": [],
   "source": [
    "compression_opts = dict(method='zip',archive_name='pre1.csv')\n",
    "y_pre.to_csv('pre1.zip',index=False, compression=compression_opts)"
   ]
  },
  {
   "cell_type": "markdown",
   "metadata": {},
   "source": [
    "## Model2"
   ]
  },
  {
   "cell_type": "code",
   "execution_count": 89,
   "metadata": {
    "collapsed": true
   },
   "outputs": [],
   "source": [
    "model2 = Sequential()\n",
    "model2.add(Conv2D(filters=32, kernel_size=(3, 3), activation='relu', strides=1, padding='same', \n",
    "                 data_format='channels_last', input_shape=(28,28,1)))\n",
    "model2.add(MaxPooling2D(pool_size=(2,2)))\n",
    "\n",
    "model2.add(Conv2D(filters=64, kernel_size=(3, 3), activation='relu', strides=1, padding='same', \n",
    "                 data_format='channels_last'))\n",
    "model2.add(MaxPooling2D(pool_size=(2,2)))\n",
    "model2.add(Dropout(0.25))\n",
    "model2.add(Conv2D(filters=64, kernel_size=(3, 3), activation='relu', strides=1, padding='same', \n",
    "                 data_format='channels_last'))\n",
    " \n",
    "model2.add(Dropout(0.25))\n",
    "model2.add(Flatten())\n",
    "model2.add(Dense(64, activation='relu'))\n",
    "model2.add(Dense(5, activation='softmax'))"
   ]
  },
  {
   "cell_type": "code",
   "execution_count": 90,
   "metadata": {},
   "outputs": [
    {
     "name": "stdout",
     "output_type": "stream",
     "text": [
      "_________________________________________________________________\n",
      "Layer (type)                 Output Shape              Param #   \n",
      "=================================================================\n",
      "conv2d_19 (Conv2D)           (None, 28, 28, 32)        320       \n",
      "_________________________________________________________________\n",
      "max_pooling2d_6 (MaxPooling2 (None, 14, 14, 32)        0         \n",
      "_________________________________________________________________\n",
      "conv2d_20 (Conv2D)           (None, 14, 14, 64)        18496     \n",
      "_________________________________________________________________\n",
      "max_pooling2d_7 (MaxPooling2 (None, 7, 7, 64)          0         \n",
      "_________________________________________________________________\n",
      "dropout_3 (Dropout)          (None, 7, 7, 64)          0         \n",
      "_________________________________________________________________\n",
      "conv2d_21 (Conv2D)           (None, 7, 7, 64)          36928     \n",
      "_________________________________________________________________\n",
      "dropout_4 (Dropout)          (None, 7, 7, 64)          0         \n",
      "_________________________________________________________________\n",
      "flatten_2 (Flatten)          (None, 3136)              0         \n",
      "_________________________________________________________________\n",
      "dense_10 (Dense)             (None, 64)                200768    \n",
      "_________________________________________________________________\n",
      "dense_11 (Dense)             (None, 5)                 325       \n",
      "=================================================================\n",
      "Total params: 256,837\n",
      "Trainable params: 256,837\n",
      "Non-trainable params: 0\n",
      "_________________________________________________________________\n"
     ]
    }
   ],
   "source": [
    "# Optimizer\n",
    "optimizer = Adam(lr=0.001, beta_1=0.9, beta_2=0.999 )\n",
    "model2.compile(optimizer = optimizer, loss = 'categorical_crossentropy', metrics=['accuracy'])\n",
    "model2.summary()\n"
   ]
  },
  {
   "cell_type": "code",
   "execution_count": 91,
   "metadata": {
    "collapsed": true
   },
   "outputs": [],
   "source": [
    "reduce_lr = LearningRateScheduler(lambda x: 1e-3 * 0.9 ** x)"
   ]
  },
  {
   "cell_type": "code",
   "execution_count": 92,
   "metadata": {
    "collapsed": true
   },
   "outputs": [],
   "source": [
    "batch_size = 128\n",
    "epochs = 40"
   ]
  },
  {
   "cell_type": "code",
   "execution_count": 94,
   "metadata": {},
   "outputs": [
    {
     "name": "stdout",
     "output_type": "stream",
     "text": [
      "Train on 54000 samples, validate on 6000 samples\n",
      "Epoch 1/40\n",
      "33s - loss: 0.2804 - acc: 0.8861 - val_loss: 0.2968 - val_acc: 0.8812\n",
      "Epoch 2/40\n",
      "34s - loss: 0.2705 - acc: 0.8897 - val_loss: 0.2751 - val_acc: 0.8855\n",
      "Epoch 3/40\n",
      "34s - loss: 0.2581 - acc: 0.8952 - val_loss: 0.3113 - val_acc: 0.8682\n",
      "Epoch 4/40\n",
      "32s - loss: 0.2474 - acc: 0.9003 - val_loss: 0.2819 - val_acc: 0.8887\n",
      "Epoch 5/40\n",
      "32s - loss: 0.2387 - acc: 0.9017 - val_loss: 0.2715 - val_acc: 0.8915\n",
      "Epoch 6/40\n",
      "32s - loss: 0.2339 - acc: 0.9046 - val_loss: 0.2534 - val_acc: 0.8973\n",
      "Epoch 7/40\n",
      "32s - loss: 0.2233 - acc: 0.9103 - val_loss: 0.2489 - val_acc: 0.8997\n",
      "Epoch 8/40\n",
      "32s - loss: 0.2151 - acc: 0.9134 - val_loss: 0.2607 - val_acc: 0.8977\n",
      "Epoch 9/40\n",
      "34s - loss: 0.2140 - acc: 0.9140 - val_loss: 0.2469 - val_acc: 0.9033\n",
      "Epoch 10/40\n",
      "33s - loss: 0.2061 - acc: 0.9170 - val_loss: 0.2521 - val_acc: 0.8975\n",
      "Epoch 11/40\n",
      "32s - loss: 0.1998 - acc: 0.9198 - val_loss: 0.2625 - val_acc: 0.8895\n",
      "Epoch 12/40\n",
      "32s - loss: 0.2017 - acc: 0.9186 - val_loss: 0.2439 - val_acc: 0.9055\n",
      "Epoch 13/40\n",
      "32s - loss: 0.1953 - acc: 0.9211 - val_loss: 0.2481 - val_acc: 0.8992\n",
      "Epoch 14/40\n",
      "33s - loss: 0.1879 - acc: 0.9249 - val_loss: 0.2435 - val_acc: 0.9035\n",
      "Epoch 15/40\n",
      "32s - loss: 0.1853 - acc: 0.9260 - val_loss: 0.2444 - val_acc: 0.9037\n",
      "Epoch 16/40\n",
      "33s - loss: 0.1842 - acc: 0.9260 - val_loss: 0.2472 - val_acc: 0.9018\n",
      "Epoch 17/40\n",
      "32s - loss: 0.1800 - acc: 0.9266 - val_loss: 0.2480 - val_acc: 0.9042\n",
      "Epoch 18/40\n",
      "32s - loss: 0.1805 - acc: 0.9277 - val_loss: 0.2374 - val_acc: 0.9052\n",
      "Epoch 19/40\n",
      "33s - loss: 0.1751 - acc: 0.9298 - val_loss: 0.2397 - val_acc: 0.9075\n",
      "Epoch 20/40\n",
      "33s - loss: 0.1736 - acc: 0.9297 - val_loss: 0.2403 - val_acc: 0.9047\n",
      "Epoch 21/40\n",
      "33s - loss: 0.1713 - acc: 0.9314 - val_loss: 0.2405 - val_acc: 0.9053\n",
      "Epoch 22/40\n",
      "33s - loss: 0.1718 - acc: 0.9306 - val_loss: 0.2459 - val_acc: 0.9025\n",
      "Epoch 23/40\n",
      "32s - loss: 0.1683 - acc: 0.9324 - val_loss: 0.2490 - val_acc: 0.9000\n",
      "Epoch 24/40\n",
      "32s - loss: 0.1661 - acc: 0.9330 - val_loss: 0.2348 - val_acc: 0.9095\n",
      "Epoch 25/40\n",
      "33s - loss: 0.1643 - acc: 0.9350 - val_loss: 0.2398 - val_acc: 0.9050\n",
      "Epoch 26/40\n",
      "33s - loss: 0.1678 - acc: 0.9323 - val_loss: 0.2446 - val_acc: 0.9008\n",
      "Epoch 27/40\n",
      "33s - loss: 0.1642 - acc: 0.9347 - val_loss: 0.2371 - val_acc: 0.9083\n",
      "Epoch 28/40\n",
      "33s - loss: 0.1640 - acc: 0.9357 - val_loss: 0.2349 - val_acc: 0.9085\n",
      "Epoch 29/40\n",
      "33s - loss: 0.1629 - acc: 0.9351 - val_loss: 0.2364 - val_acc: 0.9108\n",
      "Epoch 30/40\n",
      "33s - loss: 0.1619 - acc: 0.9352 - val_loss: 0.2355 - val_acc: 0.9077\n",
      "Epoch 31/40\n",
      "33s - loss: 0.1614 - acc: 0.9369 - val_loss: 0.2446 - val_acc: 0.9027\n",
      "Epoch 32/40\n",
      "33s - loss: 0.1621 - acc: 0.9354 - val_loss: 0.2387 - val_acc: 0.9060\n",
      "Epoch 33/40\n",
      "33s - loss: 0.1599 - acc: 0.9361 - val_loss: 0.2362 - val_acc: 0.9083\n",
      "Epoch 34/40\n",
      "33s - loss: 0.1592 - acc: 0.9369 - val_loss: 0.2362 - val_acc: 0.9082\n",
      "Epoch 35/40\n",
      "33s - loss: 0.1574 - acc: 0.9364 - val_loss: 0.2367 - val_acc: 0.9085\n",
      "Epoch 36/40\n",
      "32s - loss: 0.1577 - acc: 0.9365 - val_loss: 0.2374 - val_acc: 0.9068\n",
      "Epoch 37/40\n",
      "33s - loss: 0.1581 - acc: 0.9370 - val_loss: 0.2359 - val_acc: 0.9073\n",
      "Epoch 38/40\n",
      "33s - loss: 0.1580 - acc: 0.9373 - val_loss: 0.2374 - val_acc: 0.9072\n",
      "Epoch 39/40\n",
      "33s - loss: 0.1563 - acc: 0.9385 - val_loss: 0.2393 - val_acc: 0.9058\n",
      "Epoch 40/40\n",
      "33s - loss: 0.1566 - acc: 0.9371 - val_loss: 0.2357 - val_acc: 0.9088\n"
     ]
    }
   ],
   "source": [
    "# Fit the Model\n",
    "history2 = model2.fit(x_train, y_train,batch_size=128, epochs = epochs, verbose=2,\n",
    "                              validation_data = (x_test, y_test),\n",
    "                              callbacks = [reduce_lr])"
   ]
  },
  {
   "cell_type": "code",
   "execution_count": 95,
   "metadata": {},
   "outputs": [
    {
     "name": "stdout",
     "output_type": "stream",
     "text": [
      "6000/6000 [==============================] - 1s     \n",
      "Loss: 0.2357\n",
      "Accuracy: 0.9088\n"
     ]
    }
   ],
   "source": [
    "score2 = model2.evaluate(x_test, y_test)\n",
    "\n",
    "print('Loss: {:.4f}'.format(score2[0]))\n",
    "print('Accuracy: {:.4f}'.format(score2[1]))"
   ]
  },
  {
   "cell_type": "code",
   "execution_count": 122,
   "metadata": {},
   "outputs": [
    {
     "data": {
      "image/png": "[encoded data removed]",
      "text/plain": [
       "<Figure size 432x288 with 1 Axes>"
      ]
     },
     "metadata": {},
     "output_type": "display_data"
    }
   ],
   "source": [
    "plt.plot(history2.history['loss'])\n",
    "plt.plot(history2.history['val_loss'])\n",
    "plt.title(\"Model Loss\")\n",
    "plt.xlabel('Epochs')\n",
    "plt.ylabel('Loss')\n",
    "plt.legend(['Train', 'Test'])\n",
    "plt.show()"
   ]
  },
  {
   "cell_type": "code",
   "execution_count": 123,
   "metadata": {},
   "outputs": [
    {
     "data": {
      "image/png": "[encoded data removed]",
      "text/plain": [
       "<Figure size 432x288 with 1 Axes>"
      ]
     },
     "metadata": {},
     "output_type": "display_data"
    }
   ],
   "source": [
    "plt.plot(history2.history['accuracy'])\n",
    "plt.plot(history2.history['val_accuracy'])\n",
    "plt.title(\"Model Accuracy\")\n",
    "plt.xlabel('Epochs')\n",
    "plt.ylabel('Accuracy')\n",
    "plt.legend(['Train', 'Test'])\n",
    "plt.show()"
   ]
  },
  {
   "cell_type": "code",
   "execution_count": 124,
   "metadata": {
    "collapsed": true
   },
   "outputs": [],
   "source": [
    "#Confusion Matrix\n",
    "def plot_confusion_matrix(cm, classes,\n",
    "                          normalize=False,\n",
    "                          title='Confusion matrix',\n",
    "                          cmap=plt.cm.Blues):\n",
    "    \n",
    "    plt.imshow(cm, interpolation='nearest', cmap=cmap)\n",
    "    plt.title(title)\n",
    "    plt.colorbar()\n",
    "    tick_marks = np.arange(len(classes))\n",
    "    plt.xticks(tick_marks, classes, rotation=90)\n",
    "    plt.yticks(tick_marks, classes)\n",
    "\n",
    "    if normalize:\n",
    "        cm = cm.astype('float') / cm.sum(axis=1)[:, np.newaxis]\n",
    "\n",
    "    thresh = cm.max() / 2.\n",
    "    for i, j in itertools.product(range(cm.shape[0]), range(cm.shape[1])):\n",
    "        plt.text(j, i, cm[i, j],\n",
    "                 horizontalalignment=\"center\",\n",
    "                 color=\"white\" if cm[i, j] > thresh else \"black\")\n",
    "\n",
    "    plt.tight_layout()\n",
    "    plt.ylabel('True label')\n",
    "    plt.xlabel('Predicted label')"
   ]
  },
  {
   "cell_type": "code",
   "execution_count": 125,
   "metadata": {},
   "outputs": [
    {
     "data": {
      "image/png": "[encoded data removed]",
      "text/plain": [
       "<Figure size 432x288 with 2 Axes>"
      ]
     },
     "metadata": {},
     "output_type": "display_data"
    }
   ],
   "source": [
    "Y_pred = model2.predict(x_test)\n",
    "Y_pred_classes = np.argmax(Y_pred,axis = 1) \n",
    "Y_true = np.argmax(y_test,axis = 1)\n",
    "confusion_mtx = confusion_matrix(Y_true, Y_pred_classes) \n",
    "plot_confusion_matrix(confusion_mtx, \n",
    "            classes = ['0','1','2','3','4'])"
   ]
  },
  {
   "cell_type": "code",
   "execution_count": 126,
   "metadata": {},
   "outputs": [
    {
     "name": "stdout",
     "output_type": "stream",
     "text": [
      "              precision    recall  f1-score   support\n",
      "\n",
      "           0       0.96      0.97      0.97      1163\n",
      "           1       0.90      0.92      0.91      1214\n",
      "           2       0.88      0.84      0.86      1188\n",
      "           3       0.87      0.88      0.87      1226\n",
      "           4       0.93      0.93      0.93      1209\n",
      "\n",
      "    accuracy                           0.91      6000\n",
      "   macro avg       0.91      0.91      0.91      6000\n",
      "weighted avg       0.91      0.91      0.91      6000\n",
      "\n"
     ]
    }
   ],
   "source": [
    "#Classification Report\n",
    "classes = ['0','1','2','3','4']\n",
    "print(classification_report(Y_true, Y_pred_classes, target_names = classes))"
   ]
  },
  {
   "cell_type": "code",
   "execution_count": 116,
   "metadata": {
    "collapsed": true
   },
   "outputs": [],
   "source": [
    "X = df_test"
   ]
  },
  {
   "cell_type": "code",
   "execution_count": 117,
   "metadata": {
    "collapsed": true
   },
   "outputs": [],
   "source": [
    "Y2 = model2.predict(X)"
   ]
  },
  {
   "cell_type": "code",
   "execution_count": 118,
   "metadata": {},
   "outputs": [
    {
     "data": {
      "text/plain": [
       "array([[1.16870989e-14, 1.67716280e-05, 7.44712632e-03, 3.68634522e-01,\n",
       "        6.23901606e-01],\n",
       "       [1.07432936e-17, 7.90823101e-11, 2.90448843e-05, 3.11267236e-03,\n",
       "        9.96858239e-01],\n",
       "       [7.49512017e-01, 2.27319553e-01, 2.31646895e-02, 1.61781884e-06,\n",
       "        2.16392732e-06],\n",
       "       ...,\n",
       "       [1.08320624e-08, 3.91655456e-04, 2.40793929e-01, 6.01451457e-01,\n",
       "        1.57362953e-01],\n",
       "       [1.88739359e-04, 1.30299613e-01, 8.65428150e-01, 4.08330560e-03,\n",
       "        1.47050713e-07],\n",
       "       [6.75671186e-10, 7.19887510e-07, 6.95657372e-01, 3.02657813e-01,\n",
       "        1.68409455e-03]], dtype=float32)"
      ]
     },
     "execution_count": 118,
     "metadata": {},
     "output_type": "execute_result"
    }
   ],
   "source": [
    "Y2"
   ]
  },
  {
   "cell_type": "code",
   "execution_count": 119,
   "metadata": {},
   "outputs": [
    {
     "data": {
      "text/plain": [
       "(10000, 5)"
      ]
     },
     "execution_count": 119,
     "metadata": {},
     "output_type": "execute_result"
    }
   ],
   "source": [
    "Y2.shape"
   ]
  },
  {
   "cell_type": "code",
   "execution_count": 120,
   "metadata": {
    "collapsed": true
   },
   "outputs": [],
   "source": [
    "y2= pd.DataFrame(Y2)"
   ]
  },
  {
   "cell_type": "code",
   "execution_count": 121,
   "metadata": {},
   "outputs": [
    {
     "data": {
      "text/html": [
       "<div>\n",
       "<style scoped>\n",
       "    .dataframe tbody tr th:only-of-type {\n",
       "        vertical-align: middle;\n",
       "    }\n",
       "\n",
       "    .dataframe tbody tr th {\n",
       "        vertical-align: top;\n",
       "    }\n",
       "\n",
       "    .dataframe thead th {\n",
       "        text-align: right;\n",
       "    }\n",
       "</style>\n",
       "<table border=\"1\" class=\"dataframe\">\n",
       "  <thead>\n",
       "    <tr style=\"text-align: right;\">\n",
       "      <th></th>\n",
       "      <th>0</th>\n",
       "      <th>1</th>\n",
       "      <th>2</th>\n",
       "      <th>3</th>\n",
       "      <th>4</th>\n",
       "    </tr>\n",
       "  </thead>\n",
       "  <tbody>\n",
       "    <tr>\n",
       "      <th>0</th>\n",
       "      <td>1.168710e-14</td>\n",
       "      <td>1.677163e-05</td>\n",
       "      <td>0.007447</td>\n",
       "      <td>0.368635</td>\n",
       "      <td>6.239016e-01</td>\n",
       "    </tr>\n",
       "    <tr>\n",
       "      <th>1</th>\n",
       "      <td>1.074329e-17</td>\n",
       "      <td>7.908231e-11</td>\n",
       "      <td>0.000029</td>\n",
       "      <td>0.003113</td>\n",
       "      <td>9.968582e-01</td>\n",
       "    </tr>\n",
       "    <tr>\n",
       "      <th>2</th>\n",
       "      <td>7.495120e-01</td>\n",
       "      <td>2.273196e-01</td>\n",
       "      <td>0.023165</td>\n",
       "      <td>0.000002</td>\n",
       "      <td>2.163927e-06</td>\n",
       "    </tr>\n",
       "    <tr>\n",
       "      <th>3</th>\n",
       "      <td>9.602553e-05</td>\n",
       "      <td>9.480441e-01</td>\n",
       "      <td>0.049487</td>\n",
       "      <td>0.002373</td>\n",
       "      <td>1.778572e-07</td>\n",
       "    </tr>\n",
       "    <tr>\n",
       "      <th>4</th>\n",
       "      <td>4.383555e-01</td>\n",
       "      <td>4.468661e-01</td>\n",
       "      <td>0.090294</td>\n",
       "      <td>0.024381</td>\n",
       "      <td>1.033234e-04</td>\n",
       "    </tr>\n",
       "    <tr>\n",
       "      <th>...</th>\n",
       "      <td>...</td>\n",
       "      <td>...</td>\n",
       "      <td>...</td>\n",
       "      <td>...</td>\n",
       "      <td>...</td>\n",
       "    </tr>\n",
       "    <tr>\n",
       "      <th>9995</th>\n",
       "      <td>1.812617e-09</td>\n",
       "      <td>9.518108e-01</td>\n",
       "      <td>0.016042</td>\n",
       "      <td>0.032145</td>\n",
       "      <td>2.455315e-06</td>\n",
       "    </tr>\n",
       "    <tr>\n",
       "      <th>9996</th>\n",
       "      <td>4.456712e-06</td>\n",
       "      <td>9.999676e-01</td>\n",
       "      <td>0.000007</td>\n",
       "      <td>0.000021</td>\n",
       "      <td>6.776893e-08</td>\n",
       "    </tr>\n",
       "    <tr>\n",
       "      <th>9997</th>\n",
       "      <td>1.083206e-08</td>\n",
       "      <td>3.916555e-04</td>\n",
       "      <td>0.240794</td>\n",
       "      <td>0.601451</td>\n",
       "      <td>1.573630e-01</td>\n",
       "    </tr>\n",
       "    <tr>\n",
       "      <th>9998</th>\n",
       "      <td>1.887394e-04</td>\n",
       "      <td>1.302996e-01</td>\n",
       "      <td>0.865428</td>\n",
       "      <td>0.004083</td>\n",
       "      <td>1.470507e-07</td>\n",
       "    </tr>\n",
       "    <tr>\n",
       "      <th>9999</th>\n",
       "      <td>6.756712e-10</td>\n",
       "      <td>7.198875e-07</td>\n",
       "      <td>0.695657</td>\n",
       "      <td>0.302658</td>\n",
       "      <td>1.684095e-03</td>\n",
       "    </tr>\n",
       "  </tbody>\n",
       "</table>\n",
       "<p>10000 rows × 5 columns</p>\n",
       "</div>"
      ],
      "text/plain": [
       "                 0             1         2         3             4\n",
       "0     1.168710e-14  1.677163e-05  0.007447  0.368635  6.239016e-01\n",
       "1     1.074329e-17  7.908231e-11  0.000029  0.003113  9.968582e-01\n",
       "2     7.495120e-01  2.273196e-01  0.023165  0.000002  2.163927e-06\n",
       "3     9.602553e-05  9.480441e-01  0.049487  0.002373  1.778572e-07\n",
       "4     4.383555e-01  4.468661e-01  0.090294  0.024381  1.033234e-04\n",
       "...            ...           ...       ...       ...           ...\n",
       "9995  1.812617e-09  9.518108e-01  0.016042  0.032145  2.455315e-06\n",
       "9996  4.456712e-06  9.999676e-01  0.000007  0.000021  6.776893e-08\n",
       "9997  1.083206e-08  3.916555e-04  0.240794  0.601451  1.573630e-01\n",
       "9998  1.887394e-04  1.302996e-01  0.865428  0.004083  1.470507e-07\n",
       "9999  6.756712e-10  7.198875e-07  0.695657  0.302658  1.684095e-03\n",
       "\n",
       "[10000 rows x 5 columns]"
      ]
     },
     "execution_count": 121,
     "metadata": {},
     "output_type": "execute_result"
    }
   ],
   "source": [
    "y2"
   ]
  },
  {
   "cell_type": "code",
   "execution_count": 122,
   "metadata": {
    "collapsed": true
   },
   "outputs": [],
   "source": [
    "y2['max_value']=y2.max(axis=1)\n",
    "y2['Id']=y2.index\n",
    "y2['Label']=np.argmax(Y2,axis=1)"
   ]
  },
  {
   "cell_type": "code",
   "execution_count": 123,
   "metadata": {},
   "outputs": [
    {
     "data": {
      "text/html": [
       "<div>\n",
       "<style scoped>\n",
       "    .dataframe tbody tr th:only-of-type {\n",
       "        vertical-align: middle;\n",
       "    }\n",
       "\n",
       "    .dataframe tbody tr th {\n",
       "        vertical-align: top;\n",
       "    }\n",
       "\n",
       "    .dataframe thead th {\n",
       "        text-align: right;\n",
       "    }\n",
       "</style>\n",
       "<table border=\"1\" class=\"dataframe\">\n",
       "  <thead>\n",
       "    <tr style=\"text-align: right;\">\n",
       "      <th></th>\n",
       "      <th>0</th>\n",
       "      <th>1</th>\n",
       "      <th>2</th>\n",
       "      <th>3</th>\n",
       "      <th>4</th>\n",
       "      <th>max_value</th>\n",
       "      <th>Id</th>\n",
       "      <th>Label</th>\n",
       "    </tr>\n",
       "  </thead>\n",
       "  <tbody>\n",
       "    <tr>\n",
       "      <th>0</th>\n",
       "      <td>1.168710e-14</td>\n",
       "      <td>1.677163e-05</td>\n",
       "      <td>0.007447</td>\n",
       "      <td>0.368635</td>\n",
       "      <td>6.239016e-01</td>\n",
       "      <td>0.623902</td>\n",
       "      <td>0</td>\n",
       "      <td>4</td>\n",
       "    </tr>\n",
       "    <tr>\n",
       "      <th>1</th>\n",
       "      <td>1.074329e-17</td>\n",
       "      <td>7.908231e-11</td>\n",
       "      <td>0.000029</td>\n",
       "      <td>0.003113</td>\n",
       "      <td>9.968582e-01</td>\n",
       "      <td>0.996858</td>\n",
       "      <td>1</td>\n",
       "      <td>4</td>\n",
       "    </tr>\n",
       "    <tr>\n",
       "      <th>2</th>\n",
       "      <td>7.495120e-01</td>\n",
       "      <td>2.273196e-01</td>\n",
       "      <td>0.023165</td>\n",
       "      <td>0.000002</td>\n",
       "      <td>2.163927e-06</td>\n",
       "      <td>0.749512</td>\n",
       "      <td>2</td>\n",
       "      <td>0</td>\n",
       "    </tr>\n",
       "    <tr>\n",
       "      <th>3</th>\n",
       "      <td>9.602553e-05</td>\n",
       "      <td>9.480441e-01</td>\n",
       "      <td>0.049487</td>\n",
       "      <td>0.002373</td>\n",
       "      <td>1.778572e-07</td>\n",
       "      <td>0.948044</td>\n",
       "      <td>3</td>\n",
       "      <td>1</td>\n",
       "    </tr>\n",
       "    <tr>\n",
       "      <th>4</th>\n",
       "      <td>4.383555e-01</td>\n",
       "      <td>4.468661e-01</td>\n",
       "      <td>0.090294</td>\n",
       "      <td>0.024381</td>\n",
       "      <td>1.033234e-04</td>\n",
       "      <td>0.446866</td>\n",
       "      <td>4</td>\n",
       "      <td>1</td>\n",
       "    </tr>\n",
       "    <tr>\n",
       "      <th>...</th>\n",
       "      <td>...</td>\n",
       "      <td>...</td>\n",
       "      <td>...</td>\n",
       "      <td>...</td>\n",
       "      <td>...</td>\n",
       "      <td>...</td>\n",
       "      <td>...</td>\n",
       "      <td>...</td>\n",
       "    </tr>\n",
       "    <tr>\n",
       "      <th>9995</th>\n",
       "      <td>1.812617e-09</td>\n",
       "      <td>9.518108e-01</td>\n",
       "      <td>0.016042</td>\n",
       "      <td>0.032145</td>\n",
       "      <td>2.455315e-06</td>\n",
       "      <td>0.951811</td>\n",
       "      <td>9995</td>\n",
       "      <td>1</td>\n",
       "    </tr>\n",
       "    <tr>\n",
       "      <th>9996</th>\n",
       "      <td>4.456712e-06</td>\n",
       "      <td>9.999676e-01</td>\n",
       "      <td>0.000007</td>\n",
       "      <td>0.000021</td>\n",
       "      <td>6.776893e-08</td>\n",
       "      <td>0.999968</td>\n",
       "      <td>9996</td>\n",
       "      <td>1</td>\n",
       "    </tr>\n",
       "    <tr>\n",
       "      <th>9997</th>\n",
       "      <td>1.083206e-08</td>\n",
       "      <td>3.916555e-04</td>\n",
       "      <td>0.240794</td>\n",
       "      <td>0.601451</td>\n",
       "      <td>1.573630e-01</td>\n",
       "      <td>0.601451</td>\n",
       "      <td>9997</td>\n",
       "      <td>3</td>\n",
       "    </tr>\n",
       "    <tr>\n",
       "      <th>9998</th>\n",
       "      <td>1.887394e-04</td>\n",
       "      <td>1.302996e-01</td>\n",
       "      <td>0.865428</td>\n",
       "      <td>0.004083</td>\n",
       "      <td>1.470507e-07</td>\n",
       "      <td>0.865428</td>\n",
       "      <td>9998</td>\n",
       "      <td>2</td>\n",
       "    </tr>\n",
       "    <tr>\n",
       "      <th>9999</th>\n",
       "      <td>6.756712e-10</td>\n",
       "      <td>7.198875e-07</td>\n",
       "      <td>0.695657</td>\n",
       "      <td>0.302658</td>\n",
       "      <td>1.684095e-03</td>\n",
       "      <td>0.695657</td>\n",
       "      <td>9999</td>\n",
       "      <td>2</td>\n",
       "    </tr>\n",
       "  </tbody>\n",
       "</table>\n",
       "<p>10000 rows × 8 columns</p>\n",
       "</div>"
      ],
      "text/plain": [
       "                 0             1         2         3             4  max_value  \\\n",
       "0     1.168710e-14  1.677163e-05  0.007447  0.368635  6.239016e-01   0.623902   \n",
       "1     1.074329e-17  7.908231e-11  0.000029  0.003113  9.968582e-01   0.996858   \n",
       "2     7.495120e-01  2.273196e-01  0.023165  0.000002  2.163927e-06   0.749512   \n",
       "3     9.602553e-05  9.480441e-01  0.049487  0.002373  1.778572e-07   0.948044   \n",
       "4     4.383555e-01  4.468661e-01  0.090294  0.024381  1.033234e-04   0.446866   \n",
       "...            ...           ...       ...       ...           ...        ...   \n",
       "9995  1.812617e-09  9.518108e-01  0.016042  0.032145  2.455315e-06   0.951811   \n",
       "9996  4.456712e-06  9.999676e-01  0.000007  0.000021  6.776893e-08   0.999968   \n",
       "9997  1.083206e-08  3.916555e-04  0.240794  0.601451  1.573630e-01   0.601451   \n",
       "9998  1.887394e-04  1.302996e-01  0.865428  0.004083  1.470507e-07   0.865428   \n",
       "9999  6.756712e-10  7.198875e-07  0.695657  0.302658  1.684095e-03   0.695657   \n",
       "\n",
       "        Id  Label  \n",
       "0        0      4  \n",
       "1        1      4  \n",
       "2        2      0  \n",
       "3        3      1  \n",
       "4        4      1  \n",
       "...    ...    ...  \n",
       "9995  9995      1  \n",
       "9996  9996      1  \n",
       "9997  9997      3  \n",
       "9998  9998      2  \n",
       "9999  9999      2  \n",
       "\n",
       "[10000 rows x 8 columns]"
      ]
     },
     "execution_count": 123,
     "metadata": {},
     "output_type": "execute_result"
    }
   ],
   "source": [
    "y2"
   ]
  },
  {
   "cell_type": "code",
   "execution_count": 124,
   "metadata": {
    "collapsed": true
   },
   "outputs": [],
   "source": [
    "y2_pre=y2[['Id','Label']]"
   ]
  },
  {
   "cell_type": "code",
   "execution_count": 125,
   "metadata": {},
   "outputs": [
    {
     "data": {
      "text/html": [
       "<div>\n",
       "<style scoped>\n",
       "    .dataframe tbody tr th:only-of-type {\n",
       "        vertical-align: middle;\n",
       "    }\n",
       "\n",
       "    .dataframe tbody tr th {\n",
       "        vertical-align: top;\n",
       "    }\n",
       "\n",
       "    .dataframe thead th {\n",
       "        text-align: right;\n",
       "    }\n",
       "</style>\n",
       "<table border=\"1\" class=\"dataframe\">\n",
       "  <thead>\n",
       "    <tr style=\"text-align: right;\">\n",
       "      <th></th>\n",
       "      <th>Id</th>\n",
       "      <th>Label</th>\n",
       "    </tr>\n",
       "  </thead>\n",
       "  <tbody>\n",
       "    <tr>\n",
       "      <th>0</th>\n",
       "      <td>0</td>\n",
       "      <td>4</td>\n",
       "    </tr>\n",
       "    <tr>\n",
       "      <th>1</th>\n",
       "      <td>1</td>\n",
       "      <td>4</td>\n",
       "    </tr>\n",
       "    <tr>\n",
       "      <th>2</th>\n",
       "      <td>2</td>\n",
       "      <td>0</td>\n",
       "    </tr>\n",
       "    <tr>\n",
       "      <th>3</th>\n",
       "      <td>3</td>\n",
       "      <td>1</td>\n",
       "    </tr>\n",
       "    <tr>\n",
       "      <th>4</th>\n",
       "      <td>4</td>\n",
       "      <td>1</td>\n",
       "    </tr>\n",
       "    <tr>\n",
       "      <th>...</th>\n",
       "      <td>...</td>\n",
       "      <td>...</td>\n",
       "    </tr>\n",
       "    <tr>\n",
       "      <th>9995</th>\n",
       "      <td>9995</td>\n",
       "      <td>1</td>\n",
       "    </tr>\n",
       "    <tr>\n",
       "      <th>9996</th>\n",
       "      <td>9996</td>\n",
       "      <td>1</td>\n",
       "    </tr>\n",
       "    <tr>\n",
       "      <th>9997</th>\n",
       "      <td>9997</td>\n",
       "      <td>3</td>\n",
       "    </tr>\n",
       "    <tr>\n",
       "      <th>9998</th>\n",
       "      <td>9998</td>\n",
       "      <td>2</td>\n",
       "    </tr>\n",
       "    <tr>\n",
       "      <th>9999</th>\n",
       "      <td>9999</td>\n",
       "      <td>2</td>\n",
       "    </tr>\n",
       "  </tbody>\n",
       "</table>\n",
       "<p>10000 rows × 2 columns</p>\n",
       "</div>"
      ],
      "text/plain": [
       "        Id  Label\n",
       "0        0      4\n",
       "1        1      4\n",
       "2        2      0\n",
       "3        3      1\n",
       "4        4      1\n",
       "...    ...    ...\n",
       "9995  9995      1\n",
       "9996  9996      1\n",
       "9997  9997      3\n",
       "9998  9998      2\n",
       "9999  9999      2\n",
       "\n",
       "[10000 rows x 2 columns]"
      ]
     },
     "execution_count": 125,
     "metadata": {},
     "output_type": "execute_result"
    }
   ],
   "source": [
    "y2_pre"
   ]
  },
  {
   "cell_type": "code",
   "execution_count": 126,
   "metadata": {
    "collapsed": true
   },
   "outputs": [],
   "source": [
    "compression_opts = dict(method='zip',archive_name='pre2.csv')\n",
    "y2_pre.to_csv('pre2.zip',index=False, compression=compression_opts)"
   ]
  },
  {
   "cell_type": "markdown",
   "metadata": {},
   "source": [
    "## Model3"
   ]
  },
  {
   "cell_type": "code",
   "execution_count": 96,
   "metadata": {
    "collapsed": true
   },
   "outputs": [],
   "source": [
    "model3 = Sequential()\n",
    "model3.add(Conv2D(filters=64, kernel_size=(3, 3), activation='relu', strides=1, padding='same', \n",
    "                 data_format='channels_last', input_shape=(28,28,1)))\n",
    "model3.add(MaxPooling2D(pool_size=(2,2)))\n",
    "model3.add(Dropout(0.25))\n",
    "model3.add(Conv2D(filters=128, kernel_size=(3, 3), activation='relu', strides=1, padding='same', \n",
    "                 data_format='channels_last'))\n",
    "model3.add(MaxPooling2D(pool_size=(2,2)))\n",
    "model3.add(Dropout(0.25))\n",
    "\n",
    "model3.add(Flatten())\n",
    "model3.add(Dense(128, activation='relu'))\n",
    "model3.add(Dense(64, activation='relu'))\n",
    "model3.add(Dense(5, activation='softmax'))"
   ]
  },
  {
   "cell_type": "code",
   "execution_count": 97,
   "metadata": {},
   "outputs": [
    {
     "name": "stdout",
     "output_type": "stream",
     "text": [
      "_________________________________________________________________\n",
      "Layer (type)                 Output Shape              Param #   \n",
      "=================================================================\n",
      "conv2d_22 (Conv2D)           (None, 28, 28, 64)        640       \n",
      "_________________________________________________________________\n",
      "max_pooling2d_8 (MaxPooling2 (None, 14, 14, 64)        0         \n",
      "_________________________________________________________________\n",
      "dropout_5 (Dropout)          (None, 14, 14, 64)        0         \n",
      "_________________________________________________________________\n",
      "conv2d_23 (Conv2D)           (None, 14, 14, 128)       73856     \n",
      "_________________________________________________________________\n",
      "max_pooling2d_9 (MaxPooling2 (None, 7, 7, 128)         0         \n",
      "_________________________________________________________________\n",
      "dropout_6 (Dropout)          (None, 7, 7, 128)         0         \n",
      "_________________________________________________________________\n",
      "flatten_3 (Flatten)          (None, 6272)              0         \n",
      "_________________________________________________________________\n",
      "dense_12 (Dense)             (None, 128)               802944    \n",
      "_________________________________________________________________\n",
      "dense_13 (Dense)             (None, 64)                8256      \n",
      "_________________________________________________________________\n",
      "dense_14 (Dense)             (None, 5)                 325       \n",
      "=================================================================\n",
      "Total params: 886,021\n",
      "Trainable params: 886,021\n",
      "Non-trainable params: 0\n",
      "_________________________________________________________________\n"
     ]
    }
   ],
   "source": [
    "# Optimizer\n",
    "optimizer = Adam(lr=0.001, beta_1=0.9, beta_2=0.999 )\n",
    "model3.compile(optimizer = optimizer, loss = 'categorical_crossentropy', metrics=['accuracy'])\n",
    "model3.summary()\n"
   ]
  },
  {
   "cell_type": "code",
   "execution_count": 98,
   "metadata": {
    "collapsed": true
   },
   "outputs": [],
   "source": [
    "reduce_lr = LearningRateScheduler(lambda x: 1e-3 * 0.9 ** x)"
   ]
  },
  {
   "cell_type": "code",
   "execution_count": 99,
   "metadata": {
    "collapsed": true
   },
   "outputs": [],
   "source": [
    "batch_size = 128\n",
    "epochs = 40"
   ]
  },
  {
   "cell_type": "code",
   "execution_count": 100,
   "metadata": {},
   "outputs": [
    {
     "name": "stdout",
     "output_type": "stream",
     "text": [
      "Train on 54000 samples, validate on 6000 samples\n",
      "Epoch 1/40\n",
      "70s - loss: 0.6189 - acc: 0.7386 - val_loss: 0.4501 - val_acc: 0.8217\n",
      "Epoch 2/40\n",
      "69s - loss: 0.4169 - acc: 0.8314 - val_loss: 0.3742 - val_acc: 0.8477\n",
      "Epoch 3/40\n",
      "71s - loss: 0.3651 - acc: 0.8504 - val_loss: 0.3474 - val_acc: 0.8623\n",
      "Epoch 4/40\n",
      "69s - loss: 0.3204 - acc: 0.8708 - val_loss: 0.3120 - val_acc: 0.8748\n",
      "Epoch 5/40\n",
      "70s - loss: 0.2917 - acc: 0.8831 - val_loss: 0.3431 - val_acc: 0.8647\n",
      "Epoch 6/40\n",
      "71s - loss: 0.2748 - acc: 0.8884 - val_loss: 0.3106 - val_acc: 0.8733\n",
      "Epoch 7/40\n",
      "70s - loss: 0.2618 - acc: 0.8931 - val_loss: 0.2855 - val_acc: 0.8892\n",
      "Epoch 8/40\n",
      "70s - loss: 0.2451 - acc: 0.9011 - val_loss: 0.2762 - val_acc: 0.8923\n",
      "Epoch 9/40\n",
      "70s - loss: 0.2328 - acc: 0.9073 - val_loss: 0.2569 - val_acc: 0.8978\n",
      "Epoch 10/40\n",
      "69s - loss: 0.2227 - acc: 0.9093 - val_loss: 0.2858 - val_acc: 0.8865\n",
      "Epoch 11/40\n",
      "71s - loss: 0.2140 - acc: 0.9131 - val_loss: 0.2725 - val_acc: 0.8913\n",
      "Epoch 12/40\n",
      "71s - loss: 0.2038 - acc: 0.9185 - val_loss: 0.2534 - val_acc: 0.8958\n",
      "Epoch 13/40\n",
      "69s - loss: 0.1987 - acc: 0.9208 - val_loss: 0.2436 - val_acc: 0.9052\n",
      "Epoch 14/40\n",
      "69s - loss: 0.1900 - acc: 0.9241 - val_loss: 0.2651 - val_acc: 0.8960\n",
      "Epoch 15/40\n",
      "70s - loss: 0.1851 - acc: 0.9257 - val_loss: 0.2425 - val_acc: 0.9052\n",
      "Epoch 16/40\n",
      "69s - loss: 0.1812 - acc: 0.9280 - val_loss: 0.2349 - val_acc: 0.9072\n",
      "Epoch 17/40\n",
      "69s - loss: 0.1749 - acc: 0.9289 - val_loss: 0.2404 - val_acc: 0.9013\n",
      "Epoch 18/40\n",
      "71s - loss: 0.1696 - acc: 0.9322 - val_loss: 0.2331 - val_acc: 0.9102\n",
      "Epoch 19/40\n",
      "70s - loss: 0.1662 - acc: 0.9339 - val_loss: 0.2392 - val_acc: 0.9028\n",
      "Epoch 20/40\n",
      "70s - loss: 0.1614 - acc: 0.9357 - val_loss: 0.2311 - val_acc: 0.9100\n",
      "Epoch 21/40\n",
      "70s - loss: 0.1571 - acc: 0.9371 - val_loss: 0.2294 - val_acc: 0.9123\n",
      "Epoch 22/40\n",
      "72s - loss: 0.1556 - acc: 0.9383 - val_loss: 0.2328 - val_acc: 0.9085\n",
      "Epoch 23/40\n",
      "71s - loss: 0.1545 - acc: 0.9384 - val_loss: 0.2289 - val_acc: 0.9100\n",
      "Epoch 24/40\n",
      "70s - loss: 0.1523 - acc: 0.9400 - val_loss: 0.2342 - val_acc: 0.9120\n",
      "Epoch 25/40\n",
      "70s - loss: 0.1491 - acc: 0.9411 - val_loss: 0.2313 - val_acc: 0.9102\n",
      "Epoch 26/40\n",
      "70s - loss: 0.1484 - acc: 0.9402 - val_loss: 0.2296 - val_acc: 0.9095\n",
      "Epoch 27/40\n",
      "69s - loss: 0.1452 - acc: 0.9428 - val_loss: 0.2359 - val_acc: 0.9117\n",
      "Epoch 28/40\n",
      "71s - loss: 0.1442 - acc: 0.9425 - val_loss: 0.2291 - val_acc: 0.9113\n",
      "Epoch 29/40\n",
      "70s - loss: 0.1439 - acc: 0.9429 - val_loss: 0.2277 - val_acc: 0.9128\n",
      "Epoch 30/40\n",
      "69s - loss: 0.1443 - acc: 0.9433 - val_loss: 0.2300 - val_acc: 0.9125\n",
      "Epoch 31/40\n",
      "69s - loss: 0.1397 - acc: 0.9457 - val_loss: 0.2291 - val_acc: 0.9117\n",
      "Epoch 32/40\n",
      "69s - loss: 0.1373 - acc: 0.9463 - val_loss: 0.2304 - val_acc: 0.9125\n",
      "Epoch 33/40\n",
      "69s - loss: 0.1383 - acc: 0.9449 - val_loss: 0.2298 - val_acc: 0.9123\n",
      "Epoch 34/40\n",
      "69s - loss: 0.1384 - acc: 0.9452 - val_loss: 0.2292 - val_acc: 0.9135\n",
      "Epoch 35/40\n",
      "69s - loss: 0.1367 - acc: 0.9458 - val_loss: 0.2286 - val_acc: 0.9127\n",
      "Epoch 36/40\n",
      "71s - loss: 0.1360 - acc: 0.9461 - val_loss: 0.2303 - val_acc: 0.9127\n",
      "Epoch 37/40\n",
      "71s - loss: 0.1346 - acc: 0.9472 - val_loss: 0.2293 - val_acc: 0.9122\n",
      "Epoch 38/40\n",
      "69s - loss: 0.1341 - acc: 0.9468 - val_loss: 0.2311 - val_acc: 0.9135\n",
      "Epoch 39/40\n",
      "68s - loss: 0.1332 - acc: 0.9486 - val_loss: 0.2298 - val_acc: 0.9147\n",
      "Epoch 40/40\n",
      "70s - loss: 0.1347 - acc: 0.9466 - val_loss: 0.2292 - val_acc: 0.9150\n"
     ]
    }
   ],
   "source": [
    "# Fit the Model\n",
    "history3 = model3.fit(x_train, y_train,batch_size= batch_size, epochs = epochs, verbose=2,\n",
    "                              validation_data = (x_test, y_test),\n",
    "                              callbacks = [reduce_lr])"
   ]
  },
  {
   "cell_type": "code",
   "execution_count": null,
   "metadata": {},
   "outputs": [],
   "source": [
    "score3 = model3.evaluate(x_test, y_test)\n",
    "\n",
    "print('Loss: {:.4f}'.format(score3[0]))\n",
    "print('Accuracy: {:.4f}'.format(score3[1]))"
   ]
  },
  {
   "cell_type": "code",
   "execution_count": 105,
   "metadata": {},
   "outputs": [
    {
     "data": {
      "image/png": "[encoded data removed]",
      "text/plain": [
       "<Figure size 432x288 with 1 Axes>"
      ]
     },
     "metadata": {},
     "output_type": "display_data"
    }
   ],
   "source": [
    "plt.plot(history3.history['loss'])\n",
    "plt.plot(history3.history['val_loss'])\n",
    "plt.title(\"Model Loss\")\n",
    "plt.xlabel('Epochs')\n",
    "plt.ylabel('Loss')\n",
    "plt.legend(['Train', 'Test'])\n",
    "plt.show()"
   ]
  },
  {
   "cell_type": "code",
   "execution_count": 107,
   "metadata": {},
   "outputs": [
    {
     "data": {
      "image/png": "[encoded data removed]",
      "text/plain": [
       "<Figure size 432x288 with 1 Axes>"
      ]
     },
     "metadata": {},
     "output_type": "display_data"
    }
   ],
   "source": [
    "plt.plot(history3.history['acc'])\n",
    "plt.plot(history3.history['val_acc'])\n",
    "plt.title(\"Model Accuracy\")\n",
    "plt.xlabel('Epochs')\n",
    "plt.ylabel('Accuracy')\n",
    "plt.legend(['Train', 'Test'])\n",
    "plt.show()"
   ]
  },
  {
   "cell_type": "code",
   "execution_count": 101,
   "metadata": {
    "collapsed": true
   },
   "outputs": [],
   "source": [
    "#Confusion Matrix\n",
    "def plot_confusion_matrix(cm, classes,\n",
    "                          normalize=False,\n",
    "                          title='Confusion matrix',\n",
    "                          cmap=plt.cm.Blues):\n",
    "    \n",
    "    plt.imshow(cm, interpolation='nearest', cmap=cmap)\n",
    "    plt.title(title)\n",
    "    plt.colorbar()\n",
    "    tick_marks = np.arange(len(classes))\n",
    "    plt.xticks(tick_marks, classes, rotation=90)\n",
    "    plt.yticks(tick_marks, classes)\n",
    "\n",
    "    if normalize:\n",
    "        cm = cm.astype('float') / cm.sum(axis=1)[:, np.newaxis]\n",
    "\n",
    "    thresh = cm.max() / 2.\n",
    "    for i, j in itertools.product(range(cm.shape[0]), range(cm.shape[1])):\n",
    "        plt.text(j, i, cm[i, j],\n",
    "                 horizontalalignment=\"center\",\n",
    "                 color=\"white\" if cm[i, j] > thresh else \"black\")\n",
    "\n",
    "    plt.tight_layout()\n",
    "    plt.ylabel('True label')\n",
    "    plt.xlabel('Predicted label')"
   ]
  },
  {
   "cell_type": "code",
   "execution_count": 102,
   "metadata": {},
   "outputs": [
    {
     "data": {
      "image/png": "[encoded data removed]",
      "text/plain": [
       "<Figure size 432x288 with 2 Axes>"
      ]
     },
     "metadata": {},
     "output_type": "display_data"
    }
   ],
   "source": [
    "Y_pred = model3.predict(x_test)\n",
    "Y_pred_classes = np.argmax(Y_pred,axis = 1) \n",
    "Y_true = np.argmax(y_test,axis = 1)\n",
    "confusion_mtx = confusion_matrix(Y_true, Y_pred_classes) \n",
    "plot_confusion_matrix(confusion_mtx, \n",
    "            classes = ['0','1','2','3','4'])"
   ]
  },
  {
   "cell_type": "code",
   "execution_count": 103,
   "metadata": {},
   "outputs": [
    {
     "name": "stdout",
     "output_type": "stream",
     "text": [
      "              precision    recall  f1-score   support\n",
      "\n",
      "           0       0.97      0.97      0.97      1163\n",
      "           1       0.90      0.92      0.91      1214\n",
      "           2       0.87      0.87      0.87      1188\n",
      "           3       0.89      0.88      0.88      1226\n",
      "           4       0.95      0.94      0.94      1209\n",
      "\n",
      "    accuracy                           0.92      6000\n",
      "   macro avg       0.92      0.92      0.92      6000\n",
      "weighted avg       0.92      0.92      0.91      6000\n",
      "\n"
     ]
    }
   ],
   "source": [
    "#Classification Report\n",
    "classes = ['0','1','2','3','4']\n",
    "print(classification_report(Y_true, Y_pred_classes, target_names = classes))"
   ]
  },
  {
   "cell_type": "code",
   "execution_count": 114,
   "metadata": {
    "collapsed": true
   },
   "outputs": [],
   "source": [
    "X = df_test"
   ]
  },
  {
   "cell_type": "code",
   "execution_count": 115,
   "metadata": {
    "collapsed": true
   },
   "outputs": [],
   "source": [
    "Y3 = model3.predict(X)"
   ]
  },
  {
   "cell_type": "code",
   "execution_count": 116,
   "metadata": {},
   "outputs": [
    {
     "data": {
      "text/plain": [
       "(10000, 5)"
      ]
     },
     "execution_count": 116,
     "metadata": {},
     "output_type": "execute_result"
    }
   ],
   "source": [
    "Y3.shape"
   ]
  },
  {
   "cell_type": "code",
   "execution_count": 117,
   "metadata": {
    "collapsed": true
   },
   "outputs": [],
   "source": [
    "y3= pd.DataFrame(Y3)"
   ]
  },
  {
   "cell_type": "code",
   "execution_count": 118,
   "metadata": {
    "collapsed": true
   },
   "outputs": [],
   "source": [
    "y3['max_value']=y3.max(axis=1)\n",
    "y3['Id']=y3.index\n",
    "y3['Label']=np.argmax(Y3,axis=1)"
   ]
  },
  {
   "cell_type": "code",
   "execution_count": 119,
   "metadata": {
    "collapsed": true
   },
   "outputs": [],
   "source": [
    "y3_pre=y3[['Id','Label']]"
   ]
  },
  {
   "cell_type": "code",
   "execution_count": 120,
   "metadata": {},
   "outputs": [
    {
     "data": {
      "text/html": [
       "<div>\n",
       "<style scoped>\n",
       "    .dataframe tbody tr th:only-of-type {\n",
       "        vertical-align: middle;\n",
       "    }\n",
       "\n",
       "    .dataframe tbody tr th {\n",
       "        vertical-align: top;\n",
       "    }\n",
       "\n",
       "    .dataframe thead th {\n",
       "        text-align: right;\n",
       "    }\n",
       "</style>\n",
       "<table border=\"1\" class=\"dataframe\">\n",
       "  <thead>\n",
       "    <tr style=\"text-align: right;\">\n",
       "      <th></th>\n",
       "      <th>Id</th>\n",
       "      <th>Label</th>\n",
       "    </tr>\n",
       "  </thead>\n",
       "  <tbody>\n",
       "    <tr>\n",
       "      <th>0</th>\n",
       "      <td>0</td>\n",
       "      <td>4</td>\n",
       "    </tr>\n",
       "    <tr>\n",
       "      <th>1</th>\n",
       "      <td>1</td>\n",
       "      <td>4</td>\n",
       "    </tr>\n",
       "    <tr>\n",
       "      <th>2</th>\n",
       "      <td>2</td>\n",
       "      <td>0</td>\n",
       "    </tr>\n",
       "    <tr>\n",
       "      <th>3</th>\n",
       "      <td>3</td>\n",
       "      <td>1</td>\n",
       "    </tr>\n",
       "    <tr>\n",
       "      <th>4</th>\n",
       "      <td>4</td>\n",
       "      <td>0</td>\n",
       "    </tr>\n",
       "    <tr>\n",
       "      <th>...</th>\n",
       "      <td>...</td>\n",
       "      <td>...</td>\n",
       "    </tr>\n",
       "    <tr>\n",
       "      <th>9995</th>\n",
       "      <td>9995</td>\n",
       "      <td>1</td>\n",
       "    </tr>\n",
       "    <tr>\n",
       "      <th>9996</th>\n",
       "      <td>9996</td>\n",
       "      <td>1</td>\n",
       "    </tr>\n",
       "    <tr>\n",
       "      <th>9997</th>\n",
       "      <td>9997</td>\n",
       "      <td>3</td>\n",
       "    </tr>\n",
       "    <tr>\n",
       "      <th>9998</th>\n",
       "      <td>9998</td>\n",
       "      <td>2</td>\n",
       "    </tr>\n",
       "    <tr>\n",
       "      <th>9999</th>\n",
       "      <td>9999</td>\n",
       "      <td>2</td>\n",
       "    </tr>\n",
       "  </tbody>\n",
       "</table>\n",
       "<p>10000 rows × 2 columns</p>\n",
       "</div>"
      ],
      "text/plain": [
       "        Id  Label\n",
       "0        0      4\n",
       "1        1      4\n",
       "2        2      0\n",
       "3        3      1\n",
       "4        4      0\n",
       "...    ...    ...\n",
       "9995  9995      1\n",
       "9996  9996      1\n",
       "9997  9997      3\n",
       "9998  9998      2\n",
       "9999  9999      2\n",
       "\n",
       "[10000 rows x 2 columns]"
      ]
     },
     "execution_count": 120,
     "metadata": {},
     "output_type": "execute_result"
    }
   ],
   "source": [
    "y3_pre"
   ]
  },
  {
   "cell_type": "code",
   "execution_count": 121,
   "metadata": {
    "collapsed": true
   },
   "outputs": [],
   "source": [
    "compression_opts = dict(method='zip',archive_name='pre3.csv')\n",
    "y3_pre.to_csv('pre3.zip',index=False, compression=compression_opts)"
   ]
  },
  {
   "cell_type": "markdown",
   "metadata": {},
   "source": [
    "## Model4"
   ]
  },
  {
   "cell_type": "code",
   "execution_count": 24,
   "metadata": {},
   "outputs": [],
   "source": [
    "model4 = Sequential()\n",
    "model4.add(Conv2D(filters=64, kernel_size=(3, 3), activation='relu', strides=1, padding='same', \n",
    "                 data_format='channels_last', input_shape=(28,28,1)))\n",
    "model4.add(MaxPooling2D(pool_size=(2,2)))\n",
    "model4.add(Dropout(0.25))\n",
    "model4.add(Conv2D(filters=128, kernel_size=(3, 3), activation='relu', strides=1, padding='same', \n",
    "                 data_format='channels_last'))\n",
    "model4.add(BatchNormalization())\n",
    "model4.add(MaxPooling2D(pool_size=(2,2)))\n",
    "model4.add(Dropout(0.25))\n",
    "\n",
    "model4.add(Flatten())\n",
    "model4.add(Dense(128, activation='relu'))\n",
    "model4.add(Dense(64, activation='relu'))\n",
    "model4.add(Dense(5, activation='softmax'))"
   ]
  },
  {
   "cell_type": "code",
   "execution_count": 26,
   "metadata": {},
   "outputs": [
    {
     "name": "stdout",
     "output_type": "stream",
     "text": [
      "Model: \"sequential_3\"\n",
      "_________________________________________________________________\n",
      "Layer (type)                 Output Shape              Param #   \n",
      "=================================================================\n",
      "conv2d_5 (Conv2D)            (None, 28, 28, 64)        640       \n",
      "_________________________________________________________________\n",
      "max_pooling2d_5 (MaxPooling2 (None, 14, 14, 64)        0         \n",
      "_________________________________________________________________\n",
      "dropout_5 (Dropout)          (None, 14, 14, 64)        0         \n",
      "_________________________________________________________________\n",
      "conv2d_6 (Conv2D)            (None, 14, 14, 128)       73856     \n",
      "_________________________________________________________________\n",
      "batch_normalization_3 (Batch (None, 14, 14, 128)       512       \n",
      "_________________________________________________________________\n",
      "max_pooling2d_6 (MaxPooling2 (None, 7, 7, 128)         0         \n",
      "_________________________________________________________________\n",
      "dropout_6 (Dropout)          (None, 7, 7, 128)         0         \n",
      "_________________________________________________________________\n",
      "flatten_3 (Flatten)          (None, 6272)              0         \n",
      "_________________________________________________________________\n",
      "dense_7 (Dense)              (None, 128)               802944    \n",
      "_________________________________________________________________\n",
      "dense_8 (Dense)              (None, 64)                8256      \n",
      "_________________________________________________________________\n",
      "dense_9 (Dense)              (None, 5)                 325       \n",
      "=================================================================\n",
      "Total params: 886,533\n",
      "Trainable params: 886,277\n",
      "Non-trainable params: 256\n",
      "_________________________________________________________________\n"
     ]
    }
   ],
   "source": [
    "# Optimizer\n",
    "optimizer = Adam(lr=0.001, beta_1=0.9, beta_2=0.999 )\n",
    "model4.compile(optimizer = optimizer, loss = 'categorical_crossentropy', metrics=['accuracy'])\n",
    "model4.summary()\n"
   ]
  },
  {
   "cell_type": "code",
   "execution_count": 27,
   "metadata": {},
   "outputs": [],
   "source": [
    "reduce_lr = LearningRateScheduler(lambda x: 1e-3 * 0.9 ** x)"
   ]
  },
  {
   "cell_type": "code",
   "execution_count": 28,
   "metadata": {},
   "outputs": [],
   "source": [
    "batch_size = 128\n",
    "epochs = 40"
   ]
  },
  {
   "cell_type": "code",
   "execution_count": 29,
   "metadata": {},
   "outputs": [
    {
     "name": "stdout",
     "output_type": "stream",
     "text": [
      "WARNING:tensorflow:From C:\\Users\\renhu\\Anaconda3\\envs\\py36\\lib\\site-packages\\keras\\backend\\tensorflow_backend.py:422: The name tf.global_variables is deprecated. Please use tf.compat.v1.global_variables instead.\n",
      "\n",
      "Train on 54000 samples, validate on 6000 samples\n",
      "Epoch 1/40\n",
      " - 100s - loss: 0.5255 - accuracy: 0.7861 - val_loss: 0.6603 - val_accuracy: 0.7652\n",
      "Epoch 2/40\n",
      " - 106s - loss: 0.3579 - accuracy: 0.8544 - val_loss: 0.5036 - val_accuracy: 0.7900\n",
      "Epoch 3/40\n",
      " - 112s - loss: 0.3199 - accuracy: 0.8697 - val_loss: 0.2854 - val_accuracy: 0.8872\n",
      "Epoch 4/40\n",
      " - 131s - loss: 0.2796 - accuracy: 0.8861 - val_loss: 0.3882 - val_accuracy: 0.8377\n",
      "Epoch 5/40\n",
      " - 120s - loss: 0.2631 - accuracy: 0.8928 - val_loss: 0.3160 - val_accuracy: 0.8782\n",
      "Epoch 6/40\n",
      " - 119s - loss: 0.2470 - accuracy: 0.8981 - val_loss: 0.4089 - val_accuracy: 0.8378\n",
      "Epoch 7/40\n",
      " - 118s - loss: 0.2254 - accuracy: 0.9082 - val_loss: 0.3385 - val_accuracy: 0.8642\n",
      "Epoch 8/40\n",
      " - 119s - loss: 0.2111 - accuracy: 0.9145 - val_loss: 0.3773 - val_accuracy: 0.8583\n",
      "Epoch 9/40\n",
      " - 118s - loss: 0.1943 - accuracy: 0.9209 - val_loss: 0.5274 - val_accuracy: 0.8225\n",
      "Epoch 10/40\n",
      " - 118s - loss: 0.1808 - accuracy: 0.9263 - val_loss: 0.3102 - val_accuracy: 0.8868\n",
      "Epoch 11/40\n",
      " - 118s - loss: 0.1691 - accuracy: 0.9306 - val_loss: 0.2700 - val_accuracy: 0.8965\n",
      "Epoch 12/40\n",
      " - 118s - loss: 0.1576 - accuracy: 0.9365 - val_loss: 0.2921 - val_accuracy: 0.8943\n",
      "Epoch 13/40\n",
      " - 118s - loss: 0.1458 - accuracy: 0.9416 - val_loss: 0.2826 - val_accuracy: 0.8993\n",
      "Epoch 14/40\n",
      " - 120s - loss: 0.1392 - accuracy: 0.9442 - val_loss: 0.3081 - val_accuracy: 0.8917\n",
      "Epoch 15/40\n",
      " - 118s - loss: 0.1349 - accuracy: 0.9457 - val_loss: 0.3516 - val_accuracy: 0.8787\n",
      "Epoch 16/40\n",
      " - 121s - loss: 0.1265 - accuracy: 0.9501 - val_loss: 0.2622 - val_accuracy: 0.9077\n",
      "Epoch 17/40\n",
      " - 128s - loss: 0.1199 - accuracy: 0.9521 - val_loss: 0.2683 - val_accuracy: 0.9102\n",
      "Epoch 18/40\n",
      " - 130s - loss: 0.1166 - accuracy: 0.9536 - val_loss: 0.3280 - val_accuracy: 0.8885\n",
      "Epoch 19/40\n",
      " - 130s - loss: 0.1110 - accuracy: 0.9553 - val_loss: 0.2671 - val_accuracy: 0.9085\n",
      "Epoch 20/40\n",
      " - 129s - loss: 0.1067 - accuracy: 0.9582 - val_loss: 0.3087 - val_accuracy: 0.8937\n",
      "Epoch 21/40\n",
      " - 129s - loss: 0.1017 - accuracy: 0.9596 - val_loss: 0.3064 - val_accuracy: 0.8998\n",
      "Epoch 22/40\n",
      " - 129s - loss: 0.1020 - accuracy: 0.9600 - val_loss: 0.2836 - val_accuracy: 0.9027\n",
      "Epoch 23/40\n",
      " - 129s - loss: 0.0978 - accuracy: 0.9615 - val_loss: 0.2779 - val_accuracy: 0.9115\n",
      "Epoch 24/40\n",
      " - 123s - loss: 0.0928 - accuracy: 0.9637 - val_loss: 0.2901 - val_accuracy: 0.9055\n",
      "Epoch 25/40\n",
      " - 120s - loss: 0.0909 - accuracy: 0.9647 - val_loss: 0.2922 - val_accuracy: 0.9072\n",
      "Epoch 26/40\n",
      " - 120s - loss: 0.0882 - accuracy: 0.9661 - val_loss: 0.2904 - val_accuracy: 0.9080\n",
      "Epoch 27/40\n",
      " - 117s - loss: 0.0868 - accuracy: 0.9665 - val_loss: 0.2935 - val_accuracy: 0.9052\n",
      "Epoch 28/40\n",
      " - 117s - loss: 0.0864 - accuracy: 0.9660 - val_loss: 0.3158 - val_accuracy: 0.8943\n",
      "Epoch 29/40\n",
      " - 117s - loss: 0.0815 - accuracy: 0.9686 - val_loss: 0.2873 - val_accuracy: 0.9085\n",
      "Epoch 30/40\n",
      " - 118s - loss: 0.0812 - accuracy: 0.9683 - val_loss: 0.3136 - val_accuracy: 0.9003\n",
      "Epoch 31/40\n",
      " - 117s - loss: 0.0810 - accuracy: 0.9680 - val_loss: 0.3053 - val_accuracy: 0.9018\n",
      "Epoch 32/40\n",
      " - 118s - loss: 0.0813 - accuracy: 0.9687 - val_loss: 0.3015 - val_accuracy: 0.9048\n",
      "Epoch 33/40\n",
      " - 117s - loss: 0.0781 - accuracy: 0.9697 - val_loss: 0.3241 - val_accuracy: 0.8977\n",
      "Epoch 34/40\n",
      " - 118s - loss: 0.0765 - accuracy: 0.9716 - val_loss: 0.3150 - val_accuracy: 0.9012\n",
      "Epoch 35/40\n",
      " - 117s - loss: 0.0776 - accuracy: 0.9703 - val_loss: 0.2980 - val_accuracy: 0.9073\n",
      "Epoch 36/40\n",
      " - 118s - loss: 0.0757 - accuracy: 0.9712 - val_loss: 0.3335 - val_accuracy: 0.8975\n",
      "Epoch 37/40\n",
      " - 117s - loss: 0.0768 - accuracy: 0.9707 - val_loss: 0.3206 - val_accuracy: 0.8993\n",
      "Epoch 38/40\n",
      " - 120s - loss: 0.0742 - accuracy: 0.9718 - val_loss: 0.3207 - val_accuracy: 0.8987\n",
      "Epoch 39/40\n",
      " - 118s - loss: 0.0729 - accuracy: 0.9728 - val_loss: 0.3242 - val_accuracy: 0.8982\n",
      "Epoch 40/40\n",
      " - 118s - loss: 0.0730 - accuracy: 0.9720 - val_loss: 0.3065 - val_accuracy: 0.9050\n"
     ]
    }
   ],
   "source": [
    "# Fit the Model\n",
    "history4 = model4.fit(x_train, y_train,batch_size=128, epochs = epochs, verbose=2,\n",
    "                              validation_data = (x_test, y_test),\n",
    "                              callbacks = [reduce_lr])"
   ]
  },
  {
   "cell_type": "code",
   "execution_count": 30,
   "metadata": {},
   "outputs": [
    {
     "name": "stdout",
     "output_type": "stream",
     "text": [
      "6000/6000 [==============================] - 4s 664us/step\n",
      "Loss: 0.3065\n",
      "Accuracy: 0.9050\n"
     ]
    }
   ],
   "source": [
    "score4 = model4.evaluate(x_test, y_test)\n",
    "\n",
    "print('Loss: {:.4f}'.format(score4[0]))\n",
    "print('Accuracy: {:.4f}'.format(score4[1]))"
   ]
  },
  {
   "cell_type": "code",
   "execution_count": 31,
   "metadata": {},
   "outputs": [
    {
     "data": {
      "image/png": "[encoded data removed]",
      "text/plain": [
       "<Figure size 432x288 with 1 Axes>"
      ]
     },
     "metadata": {},
     "output_type": "display_data"
    }
   ],
   "source": [
    "plt.plot(history4.history['loss'])\n",
    "plt.plot(history4.history['val_loss'])\n",
    "plt.title(\"Model Loss\")\n",
    "plt.xlabel('Epochs')\n",
    "plt.ylabel('Loss')\n",
    "plt.legend(['Train', 'Test'])\n",
    "plt.show()"
   ]
  },
  {
   "cell_type": "code",
   "execution_count": 33,
   "metadata": {},
   "outputs": [
    {
     "data": {
      "image/png": "[encoded data removed]",
      "text/plain": [
       "<Figure size 432x288 with 1 Axes>"
      ]
     },
     "metadata": {},
     "output_type": "display_data"
    }
   ],
   "source": [
    "plt.plot(history4.history['accuracy'])\n",
    "plt.plot(history4.history['val_accuracy'])\n",
    "plt.title(\"Model Accuracy\")\n",
    "plt.xlabel('Epochs')\n",
    "plt.ylabel('Accuracy')\n",
    "plt.legend(['Train', 'Test'])\n",
    "plt.show()"
   ]
  },
  {
   "cell_type": "code",
   "execution_count": 34,
   "metadata": {},
   "outputs": [],
   "source": [
    "#Confusion Matrix\n",
    "def plot_confusion_matrix(cm, classes,\n",
    "                          normalize=False,\n",
    "                          title='Confusion matrix',\n",
    "                          cmap=plt.cm.Blues):\n",
    "    \n",
    "    plt.imshow(cm, interpolation='nearest', cmap=cmap)\n",
    "    plt.title(title)\n",
    "    plt.colorbar()\n",
    "    tick_marks = np.arange(len(classes))\n",
    "    plt.xticks(tick_marks, classes, rotation=90)\n",
    "    plt.yticks(tick_marks, classes)\n",
    "\n",
    "    if normalize:\n",
    "        cm = cm.astype('float') / cm.sum(axis=1)[:, np.newaxis]\n",
    "\n",
    "    thresh = cm.max() / 2.\n",
    "    for i, j in itertools.product(range(cm.shape[0]), range(cm.shape[1])):\n",
    "        plt.text(j, i, cm[i, j],\n",
    "                 horizontalalignment=\"center\",\n",
    "                 color=\"white\" if cm[i, j] > thresh else \"black\")\n",
    "\n",
    "    plt.tight_layout()\n",
    "    plt.ylabel('True label')\n",
    "    plt.xlabel('Predicted label')"
   ]
  },
  {
   "cell_type": "code",
   "execution_count": 35,
   "metadata": {},
   "outputs": [
    {
     "data": {
      "image/png": "[encoded data removed]",
      "text/plain": [
       "<Figure size 432x288 with 2 Axes>"
      ]
     },
     "metadata": {},
     "output_type": "display_data"
    }
   ],
   "source": [
    "Y_pred = model4.predict(x_test)\n",
    "Y_pred_classes = np.argmax(Y_pred,axis = 1) \n",
    "Y_true = np.argmax(y_test,axis = 1)\n",
    "confusion_mtx = confusion_matrix(Y_true, Y_pred_classes) \n",
    "plot_confusion_matrix(confusion_mtx, \n",
    "            classes = ['0','1','2','3','4'])"
   ]
  },
  {
   "cell_type": "code",
   "execution_count": 124,
   "metadata": {},
   "outputs": [
    {
     "name": "stdout",
     "output_type": "stream",
     "text": [
      "              precision    recall  f1-score   support\n",
      "\n",
      "           0       0.96      0.97      0.96      1163\n",
      "           1       0.90      0.91      0.90      1214\n",
      "           2       0.84      0.87      0.85      1188\n",
      "           3       0.88      0.86      0.87      1226\n",
      "           4       0.96      0.92      0.94      1209\n",
      "\n",
      "    accuracy                           0.91      6000\n",
      "   macro avg       0.91      0.91      0.91      6000\n",
      "weighted avg       0.91      0.91      0.91      6000\n",
      "\n"
     ]
    }
   ],
   "source": [
    "#Classification Report\n",
    "classes = ['0','1','2','3','4']\n",
    "print(classification_report(Y_true, Y_pred_classes, target_names = classes))"
   ]
  },
  {
   "cell_type": "code",
   "execution_count": 51,
   "metadata": {
    "collapsed": true
   },
   "outputs": [],
   "source": [
    "X = df_test"
   ]
  },
  {
   "cell_type": "code",
   "execution_count": 52,
   "metadata": {
    "collapsed": true
   },
   "outputs": [],
   "source": [
    "Y4 = model4.predict(X)"
   ]
  },
  {
   "cell_type": "code",
   "execution_count": 53,
   "metadata": {
    "collapsed": true
   },
   "outputs": [],
   "source": [
    "y4= pd.DataFrame(Y4)"
   ]
  },
  {
   "cell_type": "code",
   "execution_count": 54,
   "metadata": {
    "collapsed": true
   },
   "outputs": [],
   "source": [
    "y4['max_value']=y4.max(axis=1)\n",
    "y4['Id']=y4.index\n",
    "y4['Label']=np.argmax(Y4,axis=1)"
   ]
  },
  {
   "cell_type": "code",
   "execution_count": 55,
   "metadata": {},
   "outputs": [
    {
     "data": {
      "text/html": [
       "<div>\n",
       "<style scoped>\n",
       "    .dataframe tbody tr th:only-of-type {\n",
       "        vertical-align: middle;\n",
       "    }\n",
       "\n",
       "    .dataframe tbody tr th {\n",
       "        vertical-align: top;\n",
       "    }\n",
       "\n",
       "    .dataframe thead th {\n",
       "        text-align: right;\n",
       "    }\n",
       "</style>\n",
       "<table border=\"1\" class=\"dataframe\">\n",
       "  <thead>\n",
       "    <tr style=\"text-align: right;\">\n",
       "      <th></th>\n",
       "      <th>0</th>\n",
       "      <th>1</th>\n",
       "      <th>2</th>\n",
       "      <th>3</th>\n",
       "      <th>4</th>\n",
       "      <th>max_value</th>\n",
       "      <th>Id</th>\n",
       "      <th>Label</th>\n",
       "    </tr>\n",
       "  </thead>\n",
       "  <tbody>\n",
       "    <tr>\n",
       "      <th>0</th>\n",
       "      <td>1.287049e-19</td>\n",
       "      <td>1.967306e-05</td>\n",
       "      <td>4.803787e-02</td>\n",
       "      <td>4.878747e-01</td>\n",
       "      <td>4.640678e-01</td>\n",
       "      <td>0.487875</td>\n",
       "      <td>0</td>\n",
       "      <td>3</td>\n",
       "    </tr>\n",
       "    <tr>\n",
       "      <th>1</th>\n",
       "      <td>1.626820e-21</td>\n",
       "      <td>1.866018e-15</td>\n",
       "      <td>3.679844e-08</td>\n",
       "      <td>6.778027e-05</td>\n",
       "      <td>9.999322e-01</td>\n",
       "      <td>0.999932</td>\n",
       "      <td>1</td>\n",
       "      <td>4</td>\n",
       "    </tr>\n",
       "    <tr>\n",
       "      <th>2</th>\n",
       "      <td>7.309293e-01</td>\n",
       "      <td>2.664520e-01</td>\n",
       "      <td>2.599185e-03</td>\n",
       "      <td>1.513503e-05</td>\n",
       "      <td>4.317736e-06</td>\n",
       "      <td>0.730929</td>\n",
       "      <td>2</td>\n",
       "      <td>0</td>\n",
       "    </tr>\n",
       "    <tr>\n",
       "      <th>3</th>\n",
       "      <td>1.162817e-06</td>\n",
       "      <td>9.508239e-01</td>\n",
       "      <td>4.862557e-02</td>\n",
       "      <td>5.493602e-04</td>\n",
       "      <td>5.593553e-08</td>\n",
       "      <td>0.950824</td>\n",
       "      <td>3</td>\n",
       "      <td>1</td>\n",
       "    </tr>\n",
       "    <tr>\n",
       "      <th>4</th>\n",
       "      <td>6.768192e-02</td>\n",
       "      <td>6.322693e-01</td>\n",
       "      <td>1.385255e-01</td>\n",
       "      <td>1.615059e-01</td>\n",
       "      <td>1.730961e-05</td>\n",
       "      <td>0.632269</td>\n",
       "      <td>4</td>\n",
       "      <td>1</td>\n",
       "    </tr>\n",
       "    <tr>\n",
       "      <th>...</th>\n",
       "      <td>...</td>\n",
       "      <td>...</td>\n",
       "      <td>...</td>\n",
       "      <td>...</td>\n",
       "      <td>...</td>\n",
       "      <td>...</td>\n",
       "      <td>...</td>\n",
       "      <td>...</td>\n",
       "    </tr>\n",
       "    <tr>\n",
       "      <th>9995</th>\n",
       "      <td>3.020803e-12</td>\n",
       "      <td>9.671233e-01</td>\n",
       "      <td>1.748622e-02</td>\n",
       "      <td>1.538939e-02</td>\n",
       "      <td>1.083396e-06</td>\n",
       "      <td>0.967123</td>\n",
       "      <td>9995</td>\n",
       "      <td>1</td>\n",
       "    </tr>\n",
       "    <tr>\n",
       "      <th>9996</th>\n",
       "      <td>6.083863e-10</td>\n",
       "      <td>9.999999e-01</td>\n",
       "      <td>3.319673e-09</td>\n",
       "      <td>6.377810e-08</td>\n",
       "      <td>2.386535e-15</td>\n",
       "      <td>1.000000</td>\n",
       "      <td>9996</td>\n",
       "      <td>1</td>\n",
       "    </tr>\n",
       "    <tr>\n",
       "      <th>9997</th>\n",
       "      <td>4.665429e-10</td>\n",
       "      <td>1.262553e-04</td>\n",
       "      <td>2.810459e-01</td>\n",
       "      <td>5.153025e-01</td>\n",
       "      <td>2.035253e-01</td>\n",
       "      <td>0.515303</td>\n",
       "      <td>9997</td>\n",
       "      <td>3</td>\n",
       "    </tr>\n",
       "    <tr>\n",
       "      <th>9998</th>\n",
       "      <td>3.210359e-05</td>\n",
       "      <td>2.823116e-01</td>\n",
       "      <td>7.171630e-01</td>\n",
       "      <td>4.932574e-04</td>\n",
       "      <td>3.419813e-08</td>\n",
       "      <td>0.717163</td>\n",
       "      <td>9998</td>\n",
       "      <td>2</td>\n",
       "    </tr>\n",
       "    <tr>\n",
       "      <th>9999</th>\n",
       "      <td>6.103541e-12</td>\n",
       "      <td>5.199866e-06</td>\n",
       "      <td>8.806734e-01</td>\n",
       "      <td>1.193169e-01</td>\n",
       "      <td>4.531461e-06</td>\n",
       "      <td>0.880673</td>\n",
       "      <td>9999</td>\n",
       "      <td>2</td>\n",
       "    </tr>\n",
       "  </tbody>\n",
       "</table>\n",
       "<p>10000 rows × 8 columns</p>\n",
       "</div>"
      ],
      "text/plain": [
       "                 0             1             2             3             4  \\\n",
       "0     1.287049e-19  1.967306e-05  4.803787e-02  4.878747e-01  4.640678e-01   \n",
       "1     1.626820e-21  1.866018e-15  3.679844e-08  6.778027e-05  9.999322e-01   \n",
       "2     7.309293e-01  2.664520e-01  2.599185e-03  1.513503e-05  4.317736e-06   \n",
       "3     1.162817e-06  9.508239e-01  4.862557e-02  5.493602e-04  5.593553e-08   \n",
       "4     6.768192e-02  6.322693e-01  1.385255e-01  1.615059e-01  1.730961e-05   \n",
       "...            ...           ...           ...           ...           ...   \n",
       "9995  3.020803e-12  9.671233e-01  1.748622e-02  1.538939e-02  1.083396e-06   \n",
       "9996  6.083863e-10  9.999999e-01  3.319673e-09  6.377810e-08  2.386535e-15   \n",
       "9997  4.665429e-10  1.262553e-04  2.810459e-01  5.153025e-01  2.035253e-01   \n",
       "9998  3.210359e-05  2.823116e-01  7.171630e-01  4.932574e-04  3.419813e-08   \n",
       "9999  6.103541e-12  5.199866e-06  8.806734e-01  1.193169e-01  4.531461e-06   \n",
       "\n",
       "      max_value    Id  Label  \n",
       "0      0.487875     0      3  \n",
       "1      0.999932     1      4  \n",
       "2      0.730929     2      0  \n",
       "3      0.950824     3      1  \n",
       "4      0.632269     4      1  \n",
       "...         ...   ...    ...  \n",
       "9995   0.967123  9995      1  \n",
       "9996   1.000000  9996      1  \n",
       "9997   0.515303  9997      3  \n",
       "9998   0.717163  9998      2  \n",
       "9999   0.880673  9999      2  \n",
       "\n",
       "[10000 rows x 8 columns]"
      ]
     },
     "execution_count": 55,
     "metadata": {},
     "output_type": "execute_result"
    }
   ],
   "source": [
    "y4"
   ]
  },
  {
   "cell_type": "code",
   "execution_count": 56,
   "metadata": {
    "collapsed": true
   },
   "outputs": [],
   "source": [
    "y4_pre=y4[['Id','Label']]"
   ]
  },
  {
   "cell_type": "code",
   "execution_count": 57,
   "metadata": {
    "collapsed": true
   },
   "outputs": [],
   "source": [
    "compression_opts = dict(method='zip',archive_name='pre4.csv')\n",
    "y4_pre.to_csv('pre4.zip',index=False, compression=compression_opts)"
   ]
  }
 ],
 "metadata": {
  "kernelspec": {
   "display_name": "Python 3",
   "language": "python",
   "name": "python3"
  },
  "language_info": {
   "codemirror_mode": {
    "name": "ipython",
    "version": 3
   },
   "file_extension": ".py",
   "mimetype": "text/x-python",
   "name": "python",
   "nbconvert_exporter": "python",
   "pygments_lexer": "ipython3",
   "version": "3.6.10"
  }
 },
 "nbformat": 4,
 "nbformat_minor": 2
}
